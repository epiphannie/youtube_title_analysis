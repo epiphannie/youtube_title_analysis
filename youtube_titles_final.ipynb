{
 "cells": [
  {
   "cell_type": "code",
   "execution_count": null,
   "metadata": {},
   "outputs": [],
   "source": [
    "Introduction\n",
    "Data Import\n",
    "Tidying the data\n",
    "Transforming the data\n",
    "Visualize the data\n",
    "Conclusion\n",
    "# download as HTML to open on your personal website\n",
    "# periodically restart and run cells to check the order\n",
    "\n",
    "File gets written right into SQL database (multiple tables, cleaned and sorted)\n",
    "Pull out the stuff you want\n",
    "Generate a panda data set\n",
    "Create graphical representation"
   ]
  },
  {
   "cell_type": "markdown",
   "metadata": {},
   "source": [
    "Introduction\n",
    "\n",
    "date ranges from 11/14/2017 - 6/14/2018"
   ]
  },
  {
   "cell_type": "markdown",
   "metadata": {},
   "source": [
    "Data Import"
   ]
  },
  {
   "cell_type": "code",
   "execution_count": null,
   "metadata": {},
   "outputs": [],
   "source": [
    "import os\n",
    "import csv\n",
    "import nltk\n",
    "import sqlite3\n",
    "import pandas as pd\n",
    "import matplotlib.pyplot as plt\n",
    "\n",
    "input_file = 'USvideos.csv'\n",
    "with open(input_file, 'r') as youtube_data:\n",
    "    youtube = list(csv.reader(youtube_data))"
   ]
  },
  {
   "cell_type": "markdown",
   "metadata": {},
   "source": [
    "Tidying the Data"
   ]
  },
  {
   "cell_type": "code",
   "execution_count": null,
   "metadata": {},
   "outputs": [],
   "source": [
    "headers = masterdata_csv[0]\n",
    "headers_dict = {}\n",
    "\n",
    "for count, value in enumerate(headers, 1):\n",
    "    headers_dict[value] = count\n",
    "\n",
    "del masterdata_csv[0]"
   ]
  },
  {
   "cell_type": "code",
   "execution_count": null,
   "metadata": {},
   "outputs": [],
   "source": [
    "try : \n",
    "    os.remove('youtube.db')\n",
    "except FileNotFoundError:\n",
    "    pass\n",
    "\n",
    "db = sqlite3.connect('youtube.db')\n",
    "c = db.cursor()\n",
    "c.execute('PRAGMA foreign_keys = ON;')"
   ]
  },
  {
   "cell_type": "code",
   "execution_count": null,
   "metadata": {},
   "outputs": [],
   "source": [
    "create_statement_video = '''CREATE TABLE tblVideos (\n",
    "    video_id INTEGER PRIMARY KEY,\n",
    "    title TEXT,\n",
    "    channel_title TEXT,\n",
    "    publish_time INTEGER,\n",
    "    tags TEXT,\n",
    "    thumbnail_link TEXT,\n",
    "    comments_disabled TEXT,\n",
    "    ratings_disabled TEXT,\n",
    "    video_error_or_removed TEXT,\n",
    "    description TEXT)'''\n",
    "\n",
    "c.execute(create_statement_video)\n",
    "\n",
    "create_statement_time = '''CREATE TABLE tblTime (\n",
    "    id INTEGER PRIMARY KEY AUTOINCREMENT,\n",
    "    video_id INTEGER,\n",
    "    trending_date INTEGER,\n",
    "    views INTEGER,\n",
    "    likes INTEGER,\n",
    "    dislikes INTEGER,\n",
    "    comment_count INTEGER,\n",
    "        FOREIGN KEY(video_id) REFERENCES tblVideos(video_id))'''\n",
    "\n",
    "c.execute(create_statement_time)"
   ]
  },
  {
   "cell_type": "code",
   "execution_count": null,
   "metadata": {},
   "outputs": [],
   "source": [
    "video_data = []\n",
    "time_data = []\n",
    "\n",
    "for row in masterdata_csv:\n",
    "    video_entry = [row[headers_dict['video_id']], \n",
    "                   row[headers_dict['title']], \n",
    "                   row[headers_dict['channel_title']], \n",
    "                   row[headers_dict['publish_time']],\n",
    "                   row[headers_dict['tags']],\n",
    "                   row[headers_dict['thumbnail_link']],\n",
    "                   row[headers_dict['comments_disabled']],\n",
    "                   row[headers_dict['ratings_disabled']],\n",
    "                   row[headers_dict['video_error_or_removed']],\n",
    "                   row[headers_dict['description']]\n",
    "                  ]\n",
    "    \n",
    "    video_data.append(video_entry)\n",
    "    \n",
    "    time_entry = [row[headers_dict['video_id']], \n",
    "                  row[headers_dict['trending_date']], \n",
    "                  row[headers_dict['views']], \n",
    "                  row[headers_dict['likes']],\n",
    "                  row[headers_dict['dislikes']],\n",
    "                  row[headers_dict['comment_count']]\n",
    "                 ]\n",
    "    \n",
    "    time_data.append(time_entry)"
   ]
  },
  {
   "cell_type": "code",
   "execution_count": null,
   "metadata": {},
   "outputs": [],
   "source": [
    "c.executemany('''INSERT OR REPLACE INTO tblVideos\n",
    "        (video_id,\n",
    "        title,\n",
    "        channel_title,\n",
    "        publish_time,\n",
    "        tags,\n",
    "        thumbnail_link,\n",
    "        comments_disabled,\n",
    "        ratings_disabled,\n",
    "        video_error_or_removed,\n",
    "        description)\n",
    "        VALUES (?,?,?,?,?,?,?,?,?,?)''', video_data)\n",
    "\n",
    "db.commit()\n",
    "    \n",
    "c.executemany('''INSERT INTO tblTime\n",
    "        (video_id,\n",
    "        trending_date,\n",
    "        views,\n",
    "        likes,\n",
    "        dislikes,\n",
    "        comment_count)\n",
    "        VALUES (?,?,?,?,?,?)''', time_data)\n",
    "\n",
    "db.commit()"
   ]
  },
  {
   "cell_type": "markdown",
   "metadata": {},
   "source": [
    "Transforming the Data"
   ]
  },
  {
   "cell_type": "markdown",
   "metadata": {},
   "source": [
    "Vizualizing the Data"
   ]
  },
  {
   "cell_type": "markdown",
   "metadata": {},
   "source": [
    "Conclusion"
   ]
  }
 ],
 "metadata": {
  "kernelspec": {
   "display_name": "Python 3",
   "language": "python",
   "name": "python3"
  },
  "language_info": {
   "codemirror_mode": {
    "name": "ipython",
    "version": 3
   },
   "file_extension": ".py",
   "mimetype": "text/x-python",
   "name": "python",
   "nbconvert_exporter": "python",
   "pygments_lexer": "ipython3",
   "version": "3.6.5"
  }
 },
 "nbformat": 4,
 "nbformat_minor": 2
}
