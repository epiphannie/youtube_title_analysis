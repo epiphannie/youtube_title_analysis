{
 "cells": [
  {
   "cell_type": "markdown",
   "metadata": {},
   "source": [
    "TODO:\n",
    "- incorporate part of speech dictionary\n",
    "- incorporate stop words -- ASK NATE ABOUT A GOOD WAY TO DISPLAY THESE\n",
    "- do some kind of something assessing the views/upvotes\n",
    "- get deeper into sentence structure?"
   ]
  },
  {
   "cell_type": "code",
   "execution_count": 1,
   "metadata": {},
   "outputs": [],
   "source": [
    "import os\n",
    "import re\n",
    "import csv\n",
    "import sys\n",
    "import nltk\n",
    "from nltk.corpus import stopwords\n",
    "import sqlite3\n",
    "import pandas as pd\n",
    "# import matplotlib.pyplot as plt\n",
    "\n",
    "input_file = 'USvideos.csv'\n",
    "pos_file = 'parts_of_speech.csv'\n",
    "\n",
    "with open(input_file, 'r') as youtube_data:\n",
    "    masterdata_csv = list(csv.reader(youtube_data))\n",
    "\n",
    "with open(pos_file, 'r') as parts_of_speech:\n",
    "    pos_load = csv.reader(parts_of_speech)\n",
    "    pos_dict = {}\n",
    "    for row in pos_load:\n",
    "        pos_dict[row[0]] = row[1]\n",
    "        \n",
    "\n",
    "def open_db(database):\n",
    "    db = sqlite3.connect(database)\n",
    "    db.execute('PRAGMA foreign_keys = ON;')\n",
    "    return db"
   ]
  },
  {
   "cell_type": "markdown",
   "metadata": {},
   "source": [
    "#### Making an effort to decorate"
   ]
  },
  {
   "cell_type": "code",
   "execution_count": 2,
   "metadata": {},
   "outputs": [],
   "source": [
    "def sql_decorator(func):\n",
    "    \n",
    "    def sql_action(statement, opt_args = None):\n",
    "        db = None\n",
    "        try:\n",
    "            db = open_db('youtube.db')\n",
    "            c = db.cursor()\n",
    "            f = func(db, c, statement, opt_args)\n",
    "            if f is not None or f:\n",
    "                return f\n",
    "            db.commit()\n",
    "            \n",
    "        except:\n",
    "            print(\"There was an error: {}\".format(sys.exc_info()[1]))\n",
    "\n",
    "        finally:\n",
    "            db.rollback()\n",
    "            db.close()\n",
    "            \n",
    "\n",
    "    return sql_action\n",
    "\n",
    "@sql_decorator\n",
    "def run_sql(db, c, statement, opt_args):\n",
    "    if opt_args == None:\n",
    "        opt_args = []\n",
    "    c.execute(statement, opt_args)\n",
    "\n",
    "@sql_decorator\n",
    "def run_sql_many(db, c, statement, opt_args):\n",
    "    c.executemany(statement, opt_args)\n",
    "\n",
    "@sql_decorator\n",
    "def run_sql_fetchall(db, c, statement, opt_args):\n",
    "    if opt_args == None:\n",
    "        opt_args = []\n",
    "    c.execute(statement, opt_args)\n",
    "    return c.fetchall()\n",
    "\n",
    "@sql_decorator\n",
    "def run_sql_pd(db, c, statement, opt_args):\n",
    "    return pd.read_sql_query(statement, db)\n"
   ]
  },
  {
   "cell_type": "markdown",
   "metadata": {},
   "source": [
    "#### Define classes to facilitate analaysis...and for practice"
   ]
  },
  {
   "cell_type": "code",
   "execution_count": 18,
   "metadata": {},
   "outputs": [],
   "source": [
    "class Video:\n",
    "    \n",
    "    def __init__(self, video_id, title):\n",
    "        self.video_id = video_id\n",
    "        self.title = title\n",
    "    \n",
    "    def longest_word(self):\n",
    "        longest_length = 0\n",
    "        longest_word = ''\n",
    "        for word in self.title:\n",
    "            if len(word) > longest_length:\n",
    "                longest_length = len(word)\n",
    "                longest_word = word\n",
    "            else:\n",
    "                continue\n",
    "        return longest_word\n",
    "\n",
    "    def title_segments(self):\n",
    "        list = re.compile(\"(?:\\||(?:\\s-\\s)|—|:|\\(|\\)|\\[|\\]|{|})+\").split(self.title)\n",
    "        # ?: indicates a non-capture group so delimiters aren't saved. Now I know.\n",
    "        list = filter(lambda x: x != None, list)\n",
    "        #  python is returning None where the delimiter was. Removing Nones.\n",
    "        segments = []\n",
    "        for text in list:\n",
    "            text = text.strip()\n",
    "            if text == \"\":\n",
    "                continue\n",
    "            segments.append(Segment(self.video_id, text))\n",
    "        return segments\n",
    "\n",
    "    \n",
    "class Segment:\n",
    "    \n",
    "    def __init__(self, video_id, text):\n",
    "        self.video_id = video_id\n",
    "        self._text = text\n",
    "        \n",
    "    def text(self):\n",
    "        lower_words = self._text.lower()\n",
    "        return re.sub('[^A-Za-z0-9\\s\\-\\']+', '', lower_words)\n",
    "    \n",
    "    def words(self):\n",
    "        list = self.text().split()\n",
    "        list = filter(lambda x: x != None, list)\n",
    "        #  python is returning None where the delimiter was. Removing Nones.\n",
    "        segments = []\n",
    "        for item in list:\n",
    "            text = item.strip()\n",
    "            if text == \"\":\n",
    "                continue\n",
    "            segments.append(text)\n",
    "        return segments\n",
    "    \n",
    "    def parts_of_speech(self):\n",
    "        text = nltk.word_tokenize(self.text())\n",
    "        tagged_text = nltk.pos_tag(text)\n",
    "        #  creates list of tuples with (word, part of speech)\n",
    "        return [item[1] for item in tagged_text]\n",
    "\n",
    "class Title_glob:\n",
    "    \n",
    "    def __init__(self, glob):\n",
    "        self.glob = glob\n",
    "    \n",
    "    def word_list(self):\n",
    "        return self.glob\n",
    "    \n",
    "    def no_stop_words(self):\n",
    "        stop_words = set(stopwords.words('english'))\n",
    "        return [word for word in self.glob if not word in stop_words]\n",
    "    \n",
    "    def frequency_distribution(self):\n",
    "        return nltk.FreqDist(self.glob)\n",
    "    \n",
    "    def lexical_diversity(self):\n",
    "        return len(set(self.glob)) / len(self.glob)\n",
    "    "
   ]
  },
  {
   "cell_type": "markdown",
   "metadata": {},
   "source": [
    "#### Create database and master table"
   ]
  },
  {
   "cell_type": "code",
   "execution_count": 3,
   "metadata": {},
   "outputs": [],
   "source": [
    "try : \n",
    "    os.remove('youtube.db')\n",
    "except FileNotFoundError:\n",
    "    pass"
   ]
  },
  {
   "cell_type": "code",
   "execution_count": 4,
   "metadata": {},
   "outputs": [],
   "source": [
    "create_statement_master = '''\n",
    "    CREATE TABLE tblMasterData (\n",
    "    id INTEGER AUTOIMCREMENT PRIMARY KEY,\n",
    "    video_id TEXT,\n",
    "    trending_date TEXT,\n",
    "    title TEXT,\n",
    "    channel_title TEXT,\n",
    "    category_id INTEGER,\n",
    "    publish_time INTEGER,\n",
    "    tags TEXT,\n",
    "    views INTEGER,\n",
    "    likes INTEGER,\n",
    "    dislikes INTEGER,\n",
    "    comment_count INTEGER,\n",
    "    thumbnail_link TEXT,\n",
    "    comments_disabled TEXT,\n",
    "    ratings_disabled TEXT,\n",
    "    video_error_or_removed TEXT,\n",
    "    description TEXT)\n",
    "    '''\n",
    "\n",
    "run_sql(create_statement_master)"
   ]
  },
  {
   "cell_type": "markdown",
   "metadata": {},
   "source": [
    "#### Save column headers into a dictionary and delete column header row"
   ]
  },
  {
   "cell_type": "code",
   "execution_count": 5,
   "metadata": {},
   "outputs": [],
   "source": [
    "headers = masterdata_csv[0]\n",
    "headers_dict = {}\n",
    "\n",
    "for count, value in enumerate(headers, 1):\n",
    "    headers_dict[value] = count -1\n",
    "# to keep from 0 indexing my columns\n",
    "\n",
    "del masterdata_csv[0]"
   ]
  },
  {
   "cell_type": "markdown",
   "metadata": {},
   "source": [
    "#### Load data into master table"
   ]
  },
  {
   "cell_type": "code",
   "execution_count": 6,
   "metadata": {},
   "outputs": [],
   "source": [
    "load_statement_master = '''\n",
    "    INSERT INTO tblMasterData\n",
    "    (video_id,\n",
    "    trending_date,\n",
    "    title,\n",
    "    channel_title,\n",
    "    category_id,\n",
    "    publish_time,\n",
    "    tags,\n",
    "    views,\n",
    "    likes,\n",
    "    dislikes,\n",
    "    comment_count,\n",
    "    thumbnail_link,\n",
    "    comments_disabled,\n",
    "    ratings_disabled,\n",
    "    video_error_or_removed,\n",
    "    description)\n",
    "    VALUES (?,?,?,?,?,?,?,?,?,?,?,?,?,?,?,?)\n",
    "    '''\n",
    "\n",
    "source = masterdata_csv\n",
    "\n",
    "run_sql_many(load_statement_master, source)"
   ]
  },
  {
   "cell_type": "code",
   "execution_count": 7,
   "metadata": {},
   "outputs": [
    {
     "data": {
      "text/html": [
       "<div>\n",
       "<style scoped>\n",
       "    .dataframe tbody tr th:only-of-type {\n",
       "        vertical-align: middle;\n",
       "    }\n",
       "\n",
       "    .dataframe tbody tr th {\n",
       "        vertical-align: top;\n",
       "    }\n",
       "\n",
       "    .dataframe thead th {\n",
       "        text-align: right;\n",
       "    }\n",
       "</style>\n",
       "<table border=\"1\" class=\"dataframe\">\n",
       "  <thead>\n",
       "    <tr style=\"text-align: right;\">\n",
       "      <th></th>\n",
       "      <th>id</th>\n",
       "      <th>video_id</th>\n",
       "      <th>trending_date</th>\n",
       "      <th>title</th>\n",
       "      <th>channel_title</th>\n",
       "      <th>category_id</th>\n",
       "      <th>publish_time</th>\n",
       "      <th>tags</th>\n",
       "      <th>views</th>\n",
       "      <th>likes</th>\n",
       "      <th>dislikes</th>\n",
       "      <th>comment_count</th>\n",
       "      <th>thumbnail_link</th>\n",
       "      <th>comments_disabled</th>\n",
       "      <th>ratings_disabled</th>\n",
       "      <th>video_error_or_removed</th>\n",
       "      <th>description</th>\n",
       "    </tr>\n",
       "  </thead>\n",
       "  <tbody>\n",
       "    <tr>\n",
       "      <th>0</th>\n",
       "      <td>None</td>\n",
       "      <td>2kyS6SvSYSE</td>\n",
       "      <td>17.14.11</td>\n",
       "      <td>WE WANT TO TALK ABOUT OUR MARRIAGE</td>\n",
       "      <td>CaseyNeistat</td>\n",
       "      <td>22</td>\n",
       "      <td>2017-11-13T17:13:01.000Z</td>\n",
       "      <td>SHANtell martin</td>\n",
       "      <td>748374</td>\n",
       "      <td>57527</td>\n",
       "      <td>2966</td>\n",
       "      <td>15954</td>\n",
       "      <td>https://i.ytimg.com/vi/2kyS6SvSYSE/default.jpg</td>\n",
       "      <td>False</td>\n",
       "      <td>False</td>\n",
       "      <td>False</td>\n",
       "      <td>SHANTELL'S CHANNEL - https://www.youtube.com/s...</td>\n",
       "    </tr>\n",
       "    <tr>\n",
       "      <th>1</th>\n",
       "      <td>None</td>\n",
       "      <td>1ZAPwfrtAFY</td>\n",
       "      <td>17.14.11</td>\n",
       "      <td>The Trump Presidency: Last Week Tonight with J...</td>\n",
       "      <td>LastWeekTonight</td>\n",
       "      <td>24</td>\n",
       "      <td>2017-11-13T07:30:00.000Z</td>\n",
       "      <td>last week tonight trump presidency|\"last week ...</td>\n",
       "      <td>2418783</td>\n",
       "      <td>97185</td>\n",
       "      <td>6146</td>\n",
       "      <td>12703</td>\n",
       "      <td>https://i.ytimg.com/vi/1ZAPwfrtAFY/default.jpg</td>\n",
       "      <td>False</td>\n",
       "      <td>False</td>\n",
       "      <td>False</td>\n",
       "      <td>One year after the presidential election, John...</td>\n",
       "    </tr>\n",
       "  </tbody>\n",
       "</table>\n",
       "</div>"
      ],
      "text/plain": [
       "     id     video_id trending_date  \\\n",
       "0  None  2kyS6SvSYSE      17.14.11   \n",
       "1  None  1ZAPwfrtAFY      17.14.11   \n",
       "\n",
       "                                               title    channel_title  \\\n",
       "0                 WE WANT TO TALK ABOUT OUR MARRIAGE     CaseyNeistat   \n",
       "1  The Trump Presidency: Last Week Tonight with J...  LastWeekTonight   \n",
       "\n",
       "   category_id              publish_time  \\\n",
       "0           22  2017-11-13T17:13:01.000Z   \n",
       "1           24  2017-11-13T07:30:00.000Z   \n",
       "\n",
       "                                                tags    views  likes  \\\n",
       "0                                    SHANtell martin   748374  57527   \n",
       "1  last week tonight trump presidency|\"last week ...  2418783  97185   \n",
       "\n",
       "   dislikes  comment_count                                  thumbnail_link  \\\n",
       "0      2966          15954  https://i.ytimg.com/vi/2kyS6SvSYSE/default.jpg   \n",
       "1      6146          12703  https://i.ytimg.com/vi/1ZAPwfrtAFY/default.jpg   \n",
       "\n",
       "  comments_disabled ratings_disabled video_error_or_removed  \\\n",
       "0             False            False                  False   \n",
       "1             False            False                  False   \n",
       "\n",
       "                                         description  \n",
       "0  SHANTELL'S CHANNEL - https://www.youtube.com/s...  \n",
       "1  One year after the presidential election, John...  "
      ]
     },
     "execution_count": 7,
     "metadata": {},
     "output_type": "execute_result"
    }
   ],
   "source": [
    "select_master = run_sql_pd('SELECT * FROM tblMasterData LIMIT 2;')\n",
    "\n",
    "select_master"
   ]
  },
  {
   "cell_type": "markdown",
   "metadata": {},
   "source": [
    "#### After reviewing master data, create two tables based on function -- one static, one transactional"
   ]
  },
  {
   "cell_type": "code",
   "execution_count": 8,
   "metadata": {},
   "outputs": [],
   "source": [
    "create_statement_video = '''\n",
    "    CREATE TABLE tblVideos (\n",
    "    video_id TEXT PRIMARY KEY NOT NULL,\n",
    "    title TEXT NOT NULL,\n",
    "    channel_title TEXT NOT NULL,\n",
    "    publish_time INTEGER NOT NULL,\n",
    "    tags TEXT NOT NULL,\n",
    "    thumbnail_link TEXT NOT NULL,\n",
    "    comments_disabled TEXT NOT NULL,\n",
    "    ratings_disabled TEXT NOT NULL,\n",
    "    video_error_or_removed TEXT NOT NULL,\n",
    "    description TEXT NOT NULL)\n",
    "    '''\n",
    "\n",
    "run_sql(create_statement_video)\n",
    "\n",
    "create_statement_time = '''\n",
    "    CREATE TABLE tblTime (\n",
    "    id INTEGER PRIMARY KEY AUTOINCREMENT,\n",
    "    video_id TEXT NOT NULL,\n",
    "    trending_date TEXT NOT NULL,\n",
    "    views INTEGER NOT NULL,\n",
    "    likes INTEGER NOT NULL,\n",
    "    dislikes INTEGER NOT NULL,\n",
    "    comment_count INTEGER NOT NULL,\n",
    "        FOREIGN KEY(video_id) REFERENCES tblVideos(video_id))\n",
    "    '''\n",
    "\n",
    "run_sql(create_statement_time)"
   ]
  },
  {
   "cell_type": "markdown",
   "metadata": {},
   "source": [
    "#### Date is stored in hard-to-read format. Transform date column."
   ]
  },
  {
   "cell_type": "code",
   "execution_count": 9,
   "metadata": {},
   "outputs": [],
   "source": [
    "for row in masterdata_csv:\n",
    "    date = row[headers_dict['trending_date']]\n",
    "    updated_date = \"20\" + date[:2]\n",
    "    updated_date += \"-\"\n",
    "    updated_date += date[6:]\n",
    "    updated_date += \"-\"\n",
    "    updated_date += date[3:5]\n",
    "    row[headers_dict['trending_date']] = updated_date"
   ]
  },
  {
   "cell_type": "markdown",
   "metadata": {},
   "source": [
    "#### Titles contain characters + and &. These will not be parseable. Replacing with 'and'."
   ]
  },
  {
   "cell_type": "code",
   "execution_count": 10,
   "metadata": {},
   "outputs": [],
   "source": [
    "for row in masterdata_csv:\n",
    "    title = row[headers_dict['title']]\n",
    "    updated_title = re.sub('&|\\+', 'and', title)\n",
    "    row[headers_dict['title']] = updated_title"
   ]
  },
  {
   "cell_type": "markdown",
   "metadata": {},
   "source": [
    "#### Separate CSV file into lists to be loaded to each table"
   ]
  },
  {
   "cell_type": "code",
   "execution_count": 11,
   "metadata": {},
   "outputs": [],
   "source": [
    "video_data = []\n",
    "time_data = []\n",
    "\n",
    "for row in masterdata_csv:\n",
    "    video_entry = [row[headers_dict['video_id']], \n",
    "                   row[headers_dict['title']], \n",
    "                   row[headers_dict['channel_title']], \n",
    "                   row[headers_dict['publish_time']],\n",
    "                   row[headers_dict['tags']],\n",
    "                   row[headers_dict['thumbnail_link']],\n",
    "                   row[headers_dict['comments_disabled']],\n",
    "                   row[headers_dict['ratings_disabled']],\n",
    "                   row[headers_dict['video_error_or_removed']],\n",
    "                   row[headers_dict['description']]\n",
    "                  ]\n",
    "    \n",
    "    video_data.append(video_entry)\n",
    "    \n",
    "    time_entry = [row[headers_dict['video_id']], \n",
    "                  row[headers_dict['trending_date']], \n",
    "                  row[headers_dict['views']], \n",
    "                  row[headers_dict['likes']],\n",
    "                  row[headers_dict['dislikes']],\n",
    "                  row[headers_dict['comment_count']]\n",
    "                 ]\n",
    "    \n",
    "    time_data.append(time_entry)"
   ]
  },
  {
   "cell_type": "markdown",
   "metadata": {},
   "source": [
    "#### Load data to tables"
   ]
  },
  {
   "cell_type": "code",
   "execution_count": 12,
   "metadata": {},
   "outputs": [],
   "source": [
    "load_statement_videos = '''\n",
    "    INSERT OR REPLACE INTO tblVideos\n",
    "    (video_id,\n",
    "    title,\n",
    "    channel_title,\n",
    "    publish_time,\n",
    "    tags,\n",
    "    thumbnail_link,\n",
    "    comments_disabled,\n",
    "    ratings_disabled,\n",
    "    video_error_or_removed,\n",
    "    description)\n",
    "    VALUES (?,?,?,?,?,?,?,?,?,?)\n",
    "    '''\n",
    "\n",
    "run_sql_many(load_statement_videos, video_data)\n"
   ]
  },
  {
   "cell_type": "code",
   "execution_count": 13,
   "metadata": {},
   "outputs": [],
   "source": [
    "load_statement_time = '''\n",
    "    INSERT INTO tblTime\n",
    "    (video_id,\n",
    "    trending_date,\n",
    "    views,\n",
    "    likes,\n",
    "    dislikes,\n",
    "    comment_count)\n",
    "    VALUES (?,?,?,?,?,?)\n",
    "    '''\n",
    "\n",
    "run_sql_many(load_statement_time, time_data)"
   ]
  },
  {
   "cell_type": "markdown",
   "metadata": {},
   "source": [
    "#### Test for foreign key failure"
   ]
  },
  {
   "cell_type": "code",
   "execution_count": 14,
   "metadata": {},
   "outputs": [
    {
     "name": "stdout",
     "output_type": "stream",
     "text": [
      "There was an error: FOREIGN KEY constraint failed\n"
     ]
    }
   ],
   "source": [
    "failure_statement = \"INSERT INTO tblTime VALUES (?, ?, ?, ?, ?, ?, ?)\"\n",
    "failure_args = (None, \"testy\", \"18.11.11\", 1, 1, 1, 1)\n",
    "\n",
    "run_sql(failure_statement, failure_args)"
   ]
  },
  {
   "cell_type": "code",
   "execution_count": 15,
   "metadata": {},
   "outputs": [
    {
     "data": {
      "text/html": [
       "<div>\n",
       "<style scoped>\n",
       "    .dataframe tbody tr th:only-of-type {\n",
       "        vertical-align: middle;\n",
       "    }\n",
       "\n",
       "    .dataframe tbody tr th {\n",
       "        vertical-align: top;\n",
       "    }\n",
       "\n",
       "    .dataframe thead th {\n",
       "        text-align: right;\n",
       "    }\n",
       "</style>\n",
       "<table border=\"1\" class=\"dataframe\">\n",
       "  <thead>\n",
       "    <tr style=\"text-align: right;\">\n",
       "      <th></th>\n",
       "      <th>video_id</th>\n",
       "      <th>title</th>\n",
       "      <th>channel_title</th>\n",
       "      <th>publish_time</th>\n",
       "      <th>tags</th>\n",
       "      <th>thumbnail_link</th>\n",
       "      <th>comments_disabled</th>\n",
       "      <th>ratings_disabled</th>\n",
       "      <th>video_error_or_removed</th>\n",
       "      <th>description</th>\n",
       "    </tr>\n",
       "  </thead>\n",
       "  <tbody>\n",
       "    <tr>\n",
       "      <th>0</th>\n",
       "      <td>9wRQljFNDW8</td>\n",
       "      <td>Dion Lewis' 103-Yd Kick Return TD vs. Denver! ...</td>\n",
       "      <td>NFL</td>\n",
       "      <td>2017-11-13T02:05:26.000Z</td>\n",
       "      <td>NFL|\"Football\"|\"offense\"|\"defense\"|\"afc\"|\"nfc\"...</td>\n",
       "      <td>https://i.ytimg.com/vi/9wRQljFNDW8/default.jpg</td>\n",
       "      <td>False</td>\n",
       "      <td>False</td>\n",
       "      <td>False</td>\n",
       "      <td>New England Patriots returner Dion Lewis blast...</td>\n",
       "    </tr>\n",
       "    <tr>\n",
       "      <th>1</th>\n",
       "      <td>Om_zGhJLZ5U</td>\n",
       "      <td>TL;DW - Every DCEU Movie Before Justice League</td>\n",
       "      <td>Screen Junkies</td>\n",
       "      <td>2017-11-12T18:00:03.000Z</td>\n",
       "      <td>screenjunkies|\"screen junkies\"|\"sj news\"|\"hone...</td>\n",
       "      <td>https://i.ytimg.com/vi/Om_zGhJLZ5U/default.jpg</td>\n",
       "      <td>False</td>\n",
       "      <td>False</td>\n",
       "      <td>False</td>\n",
       "      <td>With Justice League approaching fast we rewatc...</td>\n",
       "    </tr>\n",
       "  </tbody>\n",
       "</table>\n",
       "</div>"
      ],
      "text/plain": [
       "      video_id                                              title  \\\n",
       "0  9wRQljFNDW8  Dion Lewis' 103-Yd Kick Return TD vs. Denver! ...   \n",
       "1  Om_zGhJLZ5U     TL;DW - Every DCEU Movie Before Justice League   \n",
       "\n",
       "    channel_title              publish_time  \\\n",
       "0             NFL  2017-11-13T02:05:26.000Z   \n",
       "1  Screen Junkies  2017-11-12T18:00:03.000Z   \n",
       "\n",
       "                                                tags  \\\n",
       "0  NFL|\"Football\"|\"offense\"|\"defense\"|\"afc\"|\"nfc\"...   \n",
       "1  screenjunkies|\"screen junkies\"|\"sj news\"|\"hone...   \n",
       "\n",
       "                                   thumbnail_link comments_disabled  \\\n",
       "0  https://i.ytimg.com/vi/9wRQljFNDW8/default.jpg             False   \n",
       "1  https://i.ytimg.com/vi/Om_zGhJLZ5U/default.jpg             False   \n",
       "\n",
       "  ratings_disabled video_error_or_removed  \\\n",
       "0            False                  False   \n",
       "1            False                  False   \n",
       "\n",
       "                                         description  \n",
       "0  New England Patriots returner Dion Lewis blast...  \n",
       "1  With Justice League approaching fast we rewatc...  "
      ]
     },
     "execution_count": 15,
     "metadata": {},
     "output_type": "execute_result"
    }
   ],
   "source": [
    "select_videos = run_sql_pd('SELECT * FROM tblVideos LIMIT 2;')\n",
    "\n",
    "select_videos"
   ]
  },
  {
   "cell_type": "code",
   "execution_count": 16,
   "metadata": {},
   "outputs": [
    {
     "data": {
      "text/html": [
       "<div>\n",
       "<style scoped>\n",
       "    .dataframe tbody tr th:only-of-type {\n",
       "        vertical-align: middle;\n",
       "    }\n",
       "\n",
       "    .dataframe tbody tr th {\n",
       "        vertical-align: top;\n",
       "    }\n",
       "\n",
       "    .dataframe thead th {\n",
       "        text-align: right;\n",
       "    }\n",
       "</style>\n",
       "<table border=\"1\" class=\"dataframe\">\n",
       "  <thead>\n",
       "    <tr style=\"text-align: right;\">\n",
       "      <th></th>\n",
       "      <th>id</th>\n",
       "      <th>video_id</th>\n",
       "      <th>trending_date</th>\n",
       "      <th>views</th>\n",
       "      <th>likes</th>\n",
       "      <th>dislikes</th>\n",
       "      <th>comment_count</th>\n",
       "    </tr>\n",
       "  </thead>\n",
       "  <tbody>\n",
       "    <tr>\n",
       "      <th>0</th>\n",
       "      <td>1</td>\n",
       "      <td>2kyS6SvSYSE</td>\n",
       "      <td>2017-11-14</td>\n",
       "      <td>748374</td>\n",
       "      <td>57527</td>\n",
       "      <td>2966</td>\n",
       "      <td>15954</td>\n",
       "    </tr>\n",
       "    <tr>\n",
       "      <th>1</th>\n",
       "      <td>2</td>\n",
       "      <td>1ZAPwfrtAFY</td>\n",
       "      <td>2017-11-14</td>\n",
       "      <td>2418783</td>\n",
       "      <td>97185</td>\n",
       "      <td>6146</td>\n",
       "      <td>12703</td>\n",
       "    </tr>\n",
       "  </tbody>\n",
       "</table>\n",
       "</div>"
      ],
      "text/plain": [
       "   id     video_id trending_date    views  likes  dislikes  comment_count\n",
       "0   1  2kyS6SvSYSE    2017-11-14   748374  57527      2966          15954\n",
       "1   2  1ZAPwfrtAFY    2017-11-14  2418783  97185      6146          12703"
      ]
     },
     "execution_count": 16,
     "metadata": {},
     "output_type": "execute_result"
    }
   ],
   "source": [
    "select_time = run_sql_pd('SELECT * FROM tblTime LIMIT 2;')\n",
    "\n",
    "select_time"
   ]
  },
  {
   "cell_type": "markdown",
   "metadata": {},
   "source": [
    "#### Titles appear to come in multiple segments, divided by special characters. Create Segments table to store segments of each title for analysis"
   ]
  },
  {
   "cell_type": "code",
   "execution_count": 17,
   "metadata": {},
   "outputs": [],
   "source": [
    "create_statement_segments = '''\n",
    "    CREATE TABLE tblSegments (\n",
    "    segment_id INTEGER PRIMARY KEY AUTOINCREMENT,\n",
    "    video_id TEXT NOT NULL,\n",
    "    segment_text TEXT NOT NULL,\n",
    "    segment_structure TEXT,\n",
    "        FOREIGN KEY(video_id) REFERENCES tblVideos(video_id))\n",
    "    '''\n",
    "\n",
    "run_sql(create_statement_segments)"
   ]
  },
  {
   "cell_type": "markdown",
   "metadata": {},
   "source": [
    "#### Select data from Videos table to parse into segments, generate parts of speech for each, and commit to Segments table"
   ]
  },
  {
   "cell_type": "code",
   "execution_count": 19,
   "metadata": {},
   "outputs": [],
   "source": [
    "titles_list = run_sql_fetchall(\"SELECT video_id, title FROM tblVideos;\")"
   ]
  },
  {
   "cell_type": "code",
   "execution_count": 20,
   "metadata": {},
   "outputs": [],
   "source": [
    "segment_entries=[]\n",
    "\n",
    "for row in titles_list:\n",
    "    video = Video(row[0], row[1])\n",
    "    segments = video.title_segments()\n",
    "    for segment in segments:\n",
    "        segment_entry = []\n",
    "        segment_entry.append(segment.video_id)\n",
    "        segment_entry.append(segment.text())\n",
    "        segment_entry.append(\", \".join(segment.parts_of_speech()))\n",
    "        segment_entries.append(segment_entry)"
   ]
  },
  {
   "cell_type": "code",
   "execution_count": 21,
   "metadata": {},
   "outputs": [],
   "source": [
    "insert_statement_segments = '''\n",
    "        INSERT INTO tblSegments\n",
    "        (video_id,\n",
    "        segment_text,\n",
    "        segment_structure)\n",
    "        VALUES (?,?, ?)\n",
    "        '''\n",
    "source = segment_entries\n",
    "\n",
    "run_sql_many(insert_statement_segments, source)\n"
   ]
  },
  {
   "cell_type": "code",
   "execution_count": 22,
   "metadata": {},
   "outputs": [
    {
     "data": {
      "text/html": [
       "<div>\n",
       "<style scoped>\n",
       "    .dataframe tbody tr th:only-of-type {\n",
       "        vertical-align: middle;\n",
       "    }\n",
       "\n",
       "    .dataframe tbody tr th {\n",
       "        vertical-align: top;\n",
       "    }\n",
       "\n",
       "    .dataframe thead th {\n",
       "        text-align: right;\n",
       "    }\n",
       "</style>\n",
       "<table border=\"1\" class=\"dataframe\">\n",
       "  <thead>\n",
       "    <tr style=\"text-align: right;\">\n",
       "      <th></th>\n",
       "      <th>segment_id</th>\n",
       "      <th>video_id</th>\n",
       "      <th>segment_text</th>\n",
       "      <th>segment_structure</th>\n",
       "    </tr>\n",
       "  </thead>\n",
       "  <tbody>\n",
       "    <tr>\n",
       "      <th>0</th>\n",
       "      <td>11756</td>\n",
       "      <td>v7H_Or9Nr5I</td>\n",
       "      <td>lucas the spider</td>\n",
       "      <td>IN, DT, NN</td>\n",
       "    </tr>\n",
       "    <tr>\n",
       "      <th>1</th>\n",
       "      <td>11757</td>\n",
       "      <td>v7H_Or9Nr5I</td>\n",
       "      <td>giant spider</td>\n",
       "      <td>JJ, NN</td>\n",
       "    </tr>\n",
       "    <tr>\n",
       "      <th>2</th>\n",
       "      <td>11758</td>\n",
       "      <td>n_W54baizX8</td>\n",
       "      <td>daddy yankee</td>\n",
       "      <td>NN, NN</td>\n",
       "    </tr>\n",
       "    <tr>\n",
       "      <th>3</th>\n",
       "      <td>11759</td>\n",
       "      <td>n_W54baizX8</td>\n",
       "      <td>hielo</td>\n",
       "      <td>NN</td>\n",
       "    </tr>\n",
       "    <tr>\n",
       "      <th>4</th>\n",
       "      <td>11760</td>\n",
       "      <td>n_W54baizX8</td>\n",
       "      <td>video oficial</td>\n",
       "      <td>NN, NN</td>\n",
       "    </tr>\n",
       "  </tbody>\n",
       "</table>\n",
       "</div>"
      ],
      "text/plain": [
       "   segment_id     video_id      segment_text segment_structure\n",
       "0       11756  v7H_Or9Nr5I  lucas the spider        IN, DT, NN\n",
       "1       11757  v7H_Or9Nr5I      giant spider            JJ, NN\n",
       "2       11758  n_W54baizX8      daddy yankee            NN, NN\n",
       "3       11759  n_W54baizX8             hielo                NN\n",
       "4       11760  n_W54baizX8     video oficial            NN, NN"
      ]
     },
     "execution_count": 22,
     "metadata": {},
     "output_type": "execute_result"
    }
   ],
   "source": [
    "\n",
    "select_segments = run_sql_pd('SELECT * FROM tblSegments WHERE segment_id>=(abs(random()) % (SELECT max(segment_id)FROM tblSegments)) LIMIT 5')\n",
    "\n",
    "select_segments"
   ]
  },
  {
   "cell_type": "markdown",
   "metadata": {},
   "source": [
    "It doesn't know that all nouns aren't proper...bit of a bummer"
   ]
  },
  {
   "cell_type": "code",
   "execution_count": 23,
   "metadata": {},
   "outputs": [],
   "source": [
    "segments_list = run_sql_fetchall(\"SELECT video_id, segment_text, segment_id FROM tblSegments;\")"
   ]
  },
  {
   "cell_type": "markdown",
   "metadata": {},
   "source": [
    "#### Concatenate all segments for analysis as a whole"
   ]
  },
  {
   "cell_type": "code",
   "execution_count": 24,
   "metadata": {},
   "outputs": [],
   "source": [
    "def lower_case(list):\n",
    "    return [w.lower() for w in list]\n",
    "\n",
    "all_segment_words = []\n",
    "\n",
    "for item in segments_list:\n",
    "    segment = Segment(item[0], item[1])\n",
    "    segment_words = segment.words()\n",
    "    for word in segment_words: \n",
    "        all_segment_words.append(word)\n",
    "\n",
    "all_segment_words = lower_case(all_segment_words)\n",
    "\n",
    "all_words = Title_glob(sorted(all_segment_words))\n",
    "# print(all_words.word_list())\n",
    "\n",
    "all_tokens = Title_glob(sorted(set(all_segment_words)))\n",
    "# print(all_tokens.word_list())"
   ]
  },
  {
   "cell_type": "markdown",
   "metadata": {},
   "source": [
    "#### The X most common words - unfiltered"
   ]
  },
  {
   "cell_type": "code",
   "execution_count": 25,
   "metadata": {},
   "outputs": [
    {
     "name": "stdout",
     "output_type": "stream",
     "text": [
      "[('the', 1627), ('and', 753), ('a', 748), ('to', 685), ('in', 538), ('of', 531), ('official', 486), ('with', 470), ('on', 405), ('2018', 361), ('video', 317), ('for', 285), ('i', 285), ('trailer', 276), ('how', 274), ('is', 267), ('my', 257), ('you', 240), ('from', 201), ('at', 194), ('vs', 178), ('2017', 175), ('new', 170), ('ft', 155), ('live', 144), ('what', 142), ('first', 141), ('2', 139), ('hd', 139), ('this', 139)]\n"
     ]
    }
   ],
   "source": [
    "freq_dist = all_words.frequency_distribution()\n",
    "\n",
    "print(freq_dist.most_common(30))"
   ]
  },
  {
   "cell_type": "markdown",
   "metadata": {},
   "source": [
    "#### The X most common words - filtered to exclude stop words:\n",
    "A stop word is a commonly used word (such as “the”, “a”, “an”, “in”) that a search engine has been programmed to ignore, both when indexing entries for searching and when retrieving them as the result of a search query. "
   ]
  },
  {
   "cell_type": "code",
   "execution_count": 33,
   "metadata": {},
   "outputs": [
    {
     "name": "stdout",
     "output_type": "stream",
     "text": [
      "[('official', 486), ('2018', 361), ('video', 317), ('trailer', 276), ('vs', 178), ('2017', 175), ('new', 170), ('ft', 155), ('live', 144), ('first', 141), ('2', 139), ('hd', 139), ('audio', 120), ('music', 114), ('day', 111), ('game', 108), ('makeup', 104), ('show', 103), ('1', 97), ('full', 93), ('10', 90), ('espn', 90), ('star', 90), ('black', 89), ('5', 88), ('best', 85), ('challenge', 83), ('make', 82), ('movie', 81), ('christmas', 80)]\n"
     ]
    }
   ],
   "source": [
    "no_stops = all_words.no_stop_words()\n",
    "\n",
    "no_stop_words = Title_glob(no_stops)\n",
    "\n",
    "freq_dist = no_stop_words.frequency_distribution()\n",
    "\n",
    "print(freq_dist.most_common(30))\n"
   ]
  },
  {
   "cell_type": "code",
   "execution_count": 27,
   "metadata": {},
   "outputs": [
    {
     "name": "stdout",
     "output_type": "stream",
     "text": [
      "\n",
      "        The lexical diversity of the corpus is 0.21445316284025961. \n",
      "        This is generated by dividing the length of the set of unique words over the length of  the set of all words.\n"
     ]
    }
   ],
   "source": [
    "print(\"\"\"\n",
    "        The lexical diversity of the corpus is {}. \n",
    "        This is generated by dividing the length of the set of unique words over the length of  the set of all words.\"\"\"\n",
    "        .format(all_words.lexical_diversity()))\n"
   ]
  },
  {
   "cell_type": "code",
   "execution_count": 28,
   "metadata": {},
   "outputs": [
    {
     "name": "stdout",
     "output_type": "stream",
     "text": [
      "The longest word in the corpus is brfxxccxxmnpcccclllmmnprxvclmnckssqlbb11116 with a length of 43 characters\n"
     ]
    }
   ],
   "source": [
    "longest_word = ''\n",
    "longest_length = 0\n",
    "\n",
    "for word in all_tokens.word_list():\n",
    "    if len(word) > longest_length:\n",
    "        longest_word = word\n",
    "        longest_length = len(word)\n",
    "\n",
    "print(\"The longest word in the corpus is {} with a length of {} characters\".format(longest_word, longest_length))"
   ]
  },
  {
   "cell_type": "code",
   "execution_count": 29,
   "metadata": {},
   "outputs": [
    {
     "data": {
      "text/html": [
       "<div>\n",
       "<style scoped>\n",
       "    .dataframe tbody tr th:only-of-type {\n",
       "        vertical-align: middle;\n",
       "    }\n",
       "\n",
       "    .dataframe tbody tr th {\n",
       "        vertical-align: top;\n",
       "    }\n",
       "\n",
       "    .dataframe thead th {\n",
       "        text-align: right;\n",
       "    }\n",
       "</style>\n",
       "<table border=\"1\" class=\"dataframe\">\n",
       "  <thead>\n",
       "    <tr style=\"text-align: right;\">\n",
       "      <th></th>\n",
       "      <th>number_of_segments</th>\n",
       "      <th>video_id</th>\n",
       "    </tr>\n",
       "  </thead>\n",
       "  <tbody>\n",
       "    <tr>\n",
       "      <th>0</th>\n",
       "      <td>6</td>\n",
       "      <td>07JQ4WZJIbg</td>\n",
       "    </tr>\n",
       "    <tr>\n",
       "      <th>1</th>\n",
       "      <td>6</td>\n",
       "      <td>IxF3mxWbdjw</td>\n",
       "    </tr>\n",
       "    <tr>\n",
       "      <th>2</th>\n",
       "      <td>6</td>\n",
       "      <td>JWH5KE1atAg</td>\n",
       "    </tr>\n",
       "    <tr>\n",
       "      <th>3</th>\n",
       "      <td>6</td>\n",
       "      <td>XiHiW4N7-bo</td>\n",
       "    </tr>\n",
       "    <tr>\n",
       "      <th>4</th>\n",
       "      <td>6</td>\n",
       "      <td>Yq4_YocuVeg</td>\n",
       "    </tr>\n",
       "    <tr>\n",
       "      <th>5</th>\n",
       "      <td>6</td>\n",
       "      <td>Zjp0mdMeIPU</td>\n",
       "    </tr>\n",
       "  </tbody>\n",
       "</table>\n",
       "</div>"
      ],
      "text/plain": [
       "   number_of_segments     video_id\n",
       "0                   6  07JQ4WZJIbg\n",
       "1                   6  IxF3mxWbdjw\n",
       "2                   6  JWH5KE1atAg\n",
       "3                   6  XiHiW4N7-bo\n",
       "4                   6  Yq4_YocuVeg\n",
       "5                   6  Zjp0mdMeIPU"
      ]
     },
     "execution_count": 29,
     "metadata": {},
     "output_type": "execute_result"
    }
   ],
   "source": [
    "segments_statement = \"\"\"\n",
    "            SELECT count(segment_id) as number_of_segments, video_id \n",
    "            FROM tblSegments \n",
    "            GROUP BY video_id \n",
    "            ORDER BY number_of_segments desc\n",
    "            LIMIT 6;\n",
    "            \"\"\"\n",
    "\n",
    "segments_count = run_sql_pd(segments_statement)\n",
    "\n",
    "segments_count"
   ]
  },
  {
   "cell_type": "code",
   "execution_count": 30,
   "metadata": {},
   "outputs": [
    {
     "data": {
      "text/plain": [
       "number_of_segments    1.855141\n",
       "dtype: float64"
      ]
     },
     "execution_count": 30,
     "metadata": {},
     "output_type": "execute_result"
    }
   ],
   "source": [
    "count_segments_statement = \"\"\"\n",
    "            SELECT count(segment_id) as number_of_segments, video_id \n",
    "            FROM tblSegments \n",
    "            GROUP BY video_id;\n",
    "            \"\"\"\n",
    "df = run_sql_pd(count_segments_statement)\n",
    "df.mean()"
   ]
  },
  {
   "cell_type": "markdown",
   "metadata": {},
   "source": [
    "The mean number of segments per title is 1.855141"
   ]
  },
  {
   "cell_type": "code",
   "execution_count": 31,
   "metadata": {},
   "outputs": [
    {
     "data": {
      "text/html": [
       "<div>\n",
       "<style scoped>\n",
       "    .dataframe tbody tr th:only-of-type {\n",
       "        vertical-align: middle;\n",
       "    }\n",
       "\n",
       "    .dataframe tbody tr th {\n",
       "        vertical-align: top;\n",
       "    }\n",
       "\n",
       "    .dataframe thead th {\n",
       "        text-align: right;\n",
       "    }\n",
       "</style>\n",
       "<table border=\"1\" class=\"dataframe\">\n",
       "  <thead>\n",
       "    <tr style=\"text-align: right;\">\n",
       "      <th></th>\n",
       "      <th>number_of_pattern_occurances</th>\n",
       "      <th>segment_structure</th>\n",
       "    </tr>\n",
       "  </thead>\n",
       "  <tbody>\n",
       "    <tr>\n",
       "      <th>0</th>\n",
       "      <td>1349</td>\n",
       "      <td>NN</td>\n",
       "    </tr>\n",
       "    <tr>\n",
       "      <th>1</th>\n",
       "      <td>817</td>\n",
       "      <td>NN, NN</td>\n",
       "    </tr>\n",
       "    <tr>\n",
       "      <th>2</th>\n",
       "      <td>608</td>\n",
       "      <td>JJ, NN</td>\n",
       "    </tr>\n",
       "    <tr>\n",
       "      <th>3</th>\n",
       "      <td>216</td>\n",
       "      <td>NN, NNS</td>\n",
       "    </tr>\n",
       "    <tr>\n",
       "      <th>4</th>\n",
       "      <td>197</td>\n",
       "      <td>JJ, NN, NN</td>\n",
       "    </tr>\n",
       "    <tr>\n",
       "      <th>5</th>\n",
       "      <td>182</td>\n",
       "      <td>NN, NN, NN</td>\n",
       "    </tr>\n",
       "    <tr>\n",
       "      <th>6</th>\n",
       "      <td>133</td>\n",
       "      <td>NN, CD</td>\n",
       "    </tr>\n",
       "    <tr>\n",
       "      <th>7</th>\n",
       "      <td>116</td>\n",
       "      <td>DT, NN</td>\n",
       "    </tr>\n",
       "    <tr>\n",
       "      <th>8</th>\n",
       "      <td>114</td>\n",
       "      <td>NNS</td>\n",
       "    </tr>\n",
       "    <tr>\n",
       "      <th>9</th>\n",
       "      <td>104</td>\n",
       "      <td>CD</td>\n",
       "    </tr>\n",
       "  </tbody>\n",
       "</table>\n",
       "</div>"
      ],
      "text/plain": [
       "   number_of_pattern_occurances segment_structure\n",
       "0                          1349                NN\n",
       "1                           817            NN, NN\n",
       "2                           608            JJ, NN\n",
       "3                           216           NN, NNS\n",
       "4                           197        JJ, NN, NN\n",
       "5                           182        NN, NN, NN\n",
       "6                           133            NN, CD\n",
       "7                           116            DT, NN\n",
       "8                           114               NNS\n",
       "9                           104                CD"
      ]
     },
     "execution_count": 31,
     "metadata": {},
     "output_type": "execute_result"
    }
   ],
   "source": [
    "pattern_occurances_statement = ('''\n",
    "            SELECT count(video_id) as number_of_pattern_occurances, segment_structure\n",
    "            FROM tblSegments \n",
    "            GROUP BY segment_structure\n",
    "            ORDER BY number_of_pattern_occurances DESC\n",
    "            LIMIT 10;\n",
    "            ''')\n",
    "pattern_occurances = run_sql_pd(pattern_occurances_statement)\n",
    "\n",
    "pattern_occurances"
   ]
  },
  {
   "cell_type": "code",
   "execution_count": 32,
   "metadata": {},
   "outputs": [
    {
     "ename": "TypeError",
     "evalue": "object of type 'builtin_function_or_method' has no len()",
     "output_type": "error",
     "traceback": [
      "\u001b[0;31m---------------------------------------------------------------------------\u001b[0m",
      "\u001b[0;31mTypeError\u001b[0m                                 Traceback (most recent call last)",
      "\u001b[0;32m<ipython-input-32-7261e9ebc2a5>\u001b[0m in \u001b[0;36m<module>\u001b[0;34m()\u001b[0m\n\u001b[1;32m     21\u001b[0m         \u001b[0mThe\u001b[0m \u001b[0mnumber\u001b[0m \u001b[0mof\u001b[0m \u001b[0mrepeated\u001b[0m \u001b[0mgrammatical\u001b[0m \u001b[0mpatterns\u001b[0m \u001b[0;32mis\u001b[0m \u001b[0;34m{\u001b[0m\u001b[0;34m}\u001b[0m\u001b[0;34m.\u001b[0m\u001b[0;34m\u001b[0m\u001b[0m\n\u001b[1;32m     22\u001b[0m         There are a total of {} unique grammatical patterns found in title segments.\"\"\"\n\u001b[0;32m---> 23\u001b[0;31m         .format(len(df_repeated.index), len(df_all.index)))\n\u001b[0m",
      "\u001b[0;31mTypeError\u001b[0m: object of type 'builtin_function_or_method' has no len()"
     ]
    }
   ],
   "source": [
    "\n",
    "repeated = \"\"\"\n",
    "        SELECT count(video_id) as number_of_pattern_occurances\n",
    "        FROM tblSegments \n",
    "        GROUP BY segment_structure\n",
    "        HAVING number_of_pattern_occurances > 1\n",
    "        ORDER BY number_of_pattern_occurances DESC;\n",
    "        \"\"\"\n",
    "\n",
    "every = \"\"\"\n",
    "    SELECT count(video_id) as number_of_pattern_occurances\n",
    "    FROM tblSegments \n",
    "    GROUP BY segment_structure\n",
    "    ORDER BY number_of_pattern_occurances DESC;\n",
    "    \"\"\"\n",
    "\n",
    "df_repeated = run_sql_fetchall(repeated)\n",
    "df_all = run_sql_fetchall(every)\n",
    "\n",
    "print( \"\"\"\n",
    "        The number of repeated grammatical patterns is {}.\n",
    "        There are a total of {} unique grammatical patterns found in title segments.\"\"\"\n",
    "        .format(len(df_repeated.index), len(df_all.index)))\n"
   ]
  },
  {
   "cell_type": "code",
   "execution_count": null,
   "metadata": {},
   "outputs": [],
   "source": []
  },
  {
   "cell_type": "code",
   "execution_count": null,
   "metadata": {},
   "outputs": [],
   "source": []
  }
 ],
 "metadata": {
  "kernelspec": {
   "display_name": "Python 3",
   "language": "python",
   "name": "python3"
  },
  "language_info": {
   "codemirror_mode": {
    "name": "ipython",
    "version": 3
   },
   "file_extension": ".py",
   "mimetype": "text/x-python",
   "name": "python",
   "nbconvert_exporter": "python",
   "pygments_lexer": "ipython3",
   "version": "3.6.5"
  }
 },
 "nbformat": 4,
 "nbformat_minor": 2
}
