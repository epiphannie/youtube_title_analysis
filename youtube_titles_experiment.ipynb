{
 "cells": [
  {
   "cell_type": "markdown",
   "metadata": {},
   "source": [
    "# Youtube Title Analysis\n",
    "### - Ann McHealy"
   ]
  },
  {
   "cell_type": "markdown",
   "metadata": {},
   "source": [
    "### Introduction"
   ]
  },
  {
   "cell_type": "markdown",
   "metadata": {},
   "source": [
    "This project uses the dataset [\"Trending Youtube Video Statistics\" from Kaggle](https://www.kaggle.com/datasnaek/youtube-new). Youtube does not curate the dataset but is responsible for determining what is 'trending' based on a proprietary algorithm. The dataset contains a snapshot of the top trending videos from each day, ranging from December 1, 2017 to May 31, 2018. \n",
    "\n",
    "The original goal of the project was to determine the most popular sentence structure of top trending Youtube videos. However, as you will see, the structure of video titles does not lend itself to a grammatical approach. Instead, this project focuses on the most common sequences of parts of speech in title segments and also reveals a few fun facts about the dataset."
   ]
  },
  {
   "cell_type": "markdown",
   "metadata": {},
   "source": [
    "### Data Import"
   ]
  },
  {
   "cell_type": "markdown",
   "metadata": {},
   "source": [
    "This step loads in two raw files:\n",
    "- a Youtube dataset specific to the United States\n",
    "- a translation of NLTK shorthand codes into their corresponding parts of speech"
   ]
  },
  {
   "cell_type": "code",
   "execution_count": 1,
   "metadata": {},
   "outputs": [],
   "source": [
    "import os\n",
    "import re\n",
    "import csv\n",
    "import sys\n",
    "import nltk\n",
    "from nltk.corpus import stopwords\n",
    "import sqlite3\n",
    "import pandas as pd\n",
    "import matplotlib.pyplot as plt\n",
    "# pd.set_option('display.max_colwidth', -1)\n",
    "\n",
    "input_file = 'USvideos.csv'\n",
    "pos_file = 'parts_of_speech.csv'\n",
    "\n",
    "with open(input_file, 'r') as youtube_data:\n",
    "    masterdata_csv = list(csv.reader(youtube_data))\n",
    "\n",
    "pos_dict = {}\n",
    "with open(pos_file, 'r') as parts_of_speech:\n",
    "    pos_load = csv.reader(parts_of_speech)\n",
    "    for row in pos_load:\n",
    "        pos_dict[row[0]] = row[1]\n",
    "        \n",
    "\n",
    "def open_db(database):\n",
    "    db = sqlite3.connect(database)\n",
    "    db.execute('PRAGMA foreign_keys = ON;')\n",
    "    return db"
   ]
  },
  {
   "cell_type": "markdown",
   "metadata": {},
   "source": [
    "####  My First Decorator"
   ]
  },
  {
   "cell_type": "code",
   "execution_count": 2,
   "metadata": {},
   "outputs": [],
   "source": [
    "def sql_decorator(func):\n",
    "    \n",
    "    def sql_action(statement, opt_args = None):\n",
    "        db = None\n",
    "        try:\n",
    "            db = open_db('youtube.db')\n",
    "            c = db.cursor()\n",
    "            f = func(db, c, statement, opt_args)\n",
    "            if f is not None or f:\n",
    "                return f\n",
    "            db.commit()\n",
    "            \n",
    "        except:\n",
    "            print(\"There was an error: {}\".format(sys.exc_info()[1]))\n",
    "\n",
    "        finally:\n",
    "            db.rollback()\n",
    "            db.close()\n",
    "            \n",
    "\n",
    "    return sql_action\n",
    "\n",
    "@sql_decorator\n",
    "def run_sql(db, c, statement, opt_args):\n",
    "    if opt_args == None:\n",
    "        opt_args = []\n",
    "    c.execute(statement, opt_args)\n",
    "\n",
    "@sql_decorator\n",
    "def run_sql_many(db, c, statement, opt_args):\n",
    "    c.executemany(statement, opt_args)\n",
    "\n",
    "@sql_decorator\n",
    "def run_sql_fetchall(db, c, statement, opt_args):\n",
    "    if opt_args == None:\n",
    "        opt_args = []\n",
    "    c.execute(statement, opt_args)\n",
    "    return c.fetchall()\n",
    "\n",
    "@sql_decorator\n",
    "def run_sql_pd(db, c, statement, opt_args):\n",
    "    return pd.read_sql_query(statement, db)\n"
   ]
  },
  {
   "cell_type": "markdown",
   "metadata": {},
   "source": [
    "#### Define classes to facilitate analysis...and for practice"
   ]
  },
  {
   "cell_type": "code",
   "execution_count": 3,
   "metadata": {},
   "outputs": [],
   "source": [
    "class Video:\n",
    "    \n",
    "    def __init__(self, video_id, title):\n",
    "        self.video_id = video_id\n",
    "        self.title = title\n",
    "    \n",
    "    def longest_word(self):\n",
    "        longest_length = 0\n",
    "        longest_word = None\n",
    "        for word in self.title:\n",
    "            if len(word) > longest_length:\n",
    "                longest_length = len(word)\n",
    "                longest_word = word\n",
    "            else:\n",
    "                continue\n",
    "        return longest_word\n",
    "\n",
    "    def title_segments(self):\n",
    "        list = re.compile(\"(?:\\||(?:\\s-\\s)|—|:|\\(|\\)|\\[|\\]|{|})+\").split(self.title)\n",
    "        # ?: indicates a non-capture group so delimiters aren't saved. Now I know.\n",
    "        list = filter(lambda x: x != None, list)\n",
    "        #  python is returning None where the delimiter was. Removing Nones.\n",
    "        segments = []\n",
    "        for text in list:\n",
    "            text = text.strip()\n",
    "            if text == \"\":\n",
    "                continue\n",
    "            segments.append(Segment(self.video_id, text))\n",
    "        return segments\n",
    "\n",
    "    \n",
    "class Segment:\n",
    "    \n",
    "    def __init__(self, video_id, text):\n",
    "        self.video_id = video_id\n",
    "        self._text = text\n",
    "        \n",
    "    def text(self):\n",
    "        lower_words = self._text.lower()\n",
    "        return re.sub('[^A-Za-z0-9\\s\\-\\']+', '', lower_words)\n",
    "    \n",
    "    def words(self):\n",
    "        list = self.text().split()\n",
    "        list = filter(lambda x: x != None, list)\n",
    "        #  python is returning None where the delimiter was. Removing Nones.\n",
    "        segments = []\n",
    "        for item in list:\n",
    "            text = item.strip()\n",
    "            if text == \"\":\n",
    "                continue\n",
    "            segments.append(text)\n",
    "        return segments\n",
    "    \n",
    "    def parts_of_speech(self):\n",
    "        text = nltk.word_tokenize(self.text())\n",
    "        tagged_text = nltk.pos_tag(text)\n",
    "        #  creates list of tuples with (word, part of speech)\n",
    "        return [item[1] for item in tagged_text]\n",
    "\n",
    "class Title_glob:\n",
    "    \n",
    "    def __init__(self, glob):\n",
    "        self.glob = glob\n",
    "    \n",
    "    def word_list(self):\n",
    "        return self.glob\n",
    "    \n",
    "    def no_stop_words(self):\n",
    "        stop_words = set(stopwords.words('english'))\n",
    "        return [word for word in self.glob if not word in stop_words]\n",
    "    \n",
    "    def frequency_distribution(self):\n",
    "        return nltk.FreqDist(self.glob)\n",
    "    \n",
    "    def lexical_diversity(self):\n",
    "        return len(set(self.glob)) / len(self.glob)\n",
    "    "
   ]
  },
  {
   "cell_type": "markdown",
   "metadata": {},
   "source": [
    "### Loading and Tidying the Data"
   ]
  },
  {
   "cell_type": "markdown",
   "metadata": {},
   "source": [
    "#### Create database and master table"
   ]
  },
  {
   "cell_type": "code",
   "execution_count": 4,
   "metadata": {},
   "outputs": [],
   "source": [
    "try : \n",
    "    os.remove('youtube.db')\n",
    "except FileNotFoundError:\n",
    "    pass"
   ]
  },
  {
   "cell_type": "code",
   "execution_count": 5,
   "metadata": {},
   "outputs": [],
   "source": [
    "create_statement_master = '''\n",
    "    CREATE TABLE masterData (\n",
    "    id INTEGER AUTOIMCREMENT PRIMARY KEY,\n",
    "    video_id TEXT,\n",
    "    trending_date TEXT,\n",
    "    title TEXT,\n",
    "    channel_title TEXT,\n",
    "    category_id INTEGER,\n",
    "    publish_time INTEGER,\n",
    "    tags TEXT,\n",
    "    views INTEGER,\n",
    "    likes INTEGER,\n",
    "    dislikes INTEGER,\n",
    "    comment_count INTEGER,\n",
    "    thumbnail_link TEXT,\n",
    "    comments_disabled TEXT,\n",
    "    ratings_disabled TEXT,\n",
    "    video_error_or_removed TEXT,\n",
    "    description TEXT)\n",
    "    '''\n",
    "\n",
    "run_sql(create_statement_master)"
   ]
  },
  {
   "cell_type": "markdown",
   "metadata": {},
   "source": [
    "#### Save column headers into a dictionary and delete column header row"
   ]
  },
  {
   "cell_type": "code",
   "execution_count": 6,
   "metadata": {},
   "outputs": [],
   "source": [
    "headers = masterdata_csv[0]\n",
    "headers_dict = {}\n",
    "\n",
    "for count, value in enumerate(headers, 1):\n",
    "    headers_dict[value] = count -1\n",
    "# to keep from 0 indexing my columns\n",
    "\n",
    "del masterdata_csv[0]"
   ]
  },
  {
   "cell_type": "markdown",
   "metadata": {},
   "source": [
    "#### Load data into master table"
   ]
  },
  {
   "cell_type": "code",
   "execution_count": 7,
   "metadata": {},
   "outputs": [],
   "source": [
    "load_statement_master = '''\n",
    "    INSERT INTO masterData\n",
    "    (video_id,\n",
    "    trending_date,\n",
    "    title,\n",
    "    channel_title,\n",
    "    category_id,\n",
    "    publish_time,\n",
    "    tags,\n",
    "    views,\n",
    "    likes,\n",
    "    dislikes,\n",
    "    comment_count,\n",
    "    thumbnail_link,\n",
    "    comments_disabled,\n",
    "    ratings_disabled,\n",
    "    video_error_or_removed,\n",
    "    description)\n",
    "    VALUES (?,?,?,?,?,?,?,?,?,?,?,?,?,?,?,?)\n",
    "    '''\n",
    "\n",
    "source = masterdata_csv\n",
    "\n",
    "run_sql_many(load_statement_master, source)"
   ]
  },
  {
   "cell_type": "code",
   "execution_count": 8,
   "metadata": {},
   "outputs": [
    {
     "data": {
      "text/html": [
       "<div>\n",
       "<style scoped>\n",
       "    .dataframe tbody tr th:only-of-type {\n",
       "        vertical-align: middle;\n",
       "    }\n",
       "\n",
       "    .dataframe tbody tr th {\n",
       "        vertical-align: top;\n",
       "    }\n",
       "\n",
       "    .dataframe thead th {\n",
       "        text-align: right;\n",
       "    }\n",
       "</style>\n",
       "<table border=\"1\" class=\"dataframe\">\n",
       "  <thead>\n",
       "    <tr style=\"text-align: right;\">\n",
       "      <th></th>\n",
       "      <th>id</th>\n",
       "      <th>video_id</th>\n",
       "      <th>trending_date</th>\n",
       "      <th>title</th>\n",
       "      <th>channel_title</th>\n",
       "      <th>category_id</th>\n",
       "      <th>publish_time</th>\n",
       "      <th>tags</th>\n",
       "      <th>views</th>\n",
       "      <th>likes</th>\n",
       "      <th>dislikes</th>\n",
       "      <th>comment_count</th>\n",
       "      <th>thumbnail_link</th>\n",
       "      <th>comments_disabled</th>\n",
       "      <th>ratings_disabled</th>\n",
       "      <th>video_error_or_removed</th>\n",
       "      <th>description</th>\n",
       "    </tr>\n",
       "  </thead>\n",
       "  <tbody>\n",
       "    <tr>\n",
       "      <th>0</th>\n",
       "      <td>None</td>\n",
       "      <td>2kyS6SvSYSE</td>\n",
       "      <td>17.14.11</td>\n",
       "      <td>WE WANT TO TALK ABOUT OUR MARRIAGE</td>\n",
       "      <td>CaseyNeistat</td>\n",
       "      <td>22</td>\n",
       "      <td>2017-11-13T17:13:01.000Z</td>\n",
       "      <td>SHANtell martin</td>\n",
       "      <td>748374</td>\n",
       "      <td>57527</td>\n",
       "      <td>2966</td>\n",
       "      <td>15954</td>\n",
       "      <td>https://i.ytimg.com/vi/2kyS6SvSYSE/default.jpg</td>\n",
       "      <td>False</td>\n",
       "      <td>False</td>\n",
       "      <td>False</td>\n",
       "      <td>SHANTELL'S CHANNEL - https://www.youtube.com/s...</td>\n",
       "    </tr>\n",
       "    <tr>\n",
       "      <th>1</th>\n",
       "      <td>None</td>\n",
       "      <td>1ZAPwfrtAFY</td>\n",
       "      <td>17.14.11</td>\n",
       "      <td>The Trump Presidency: Last Week Tonight with J...</td>\n",
       "      <td>LastWeekTonight</td>\n",
       "      <td>24</td>\n",
       "      <td>2017-11-13T07:30:00.000Z</td>\n",
       "      <td>last week tonight trump presidency|\"last week ...</td>\n",
       "      <td>2418783</td>\n",
       "      <td>97185</td>\n",
       "      <td>6146</td>\n",
       "      <td>12703</td>\n",
       "      <td>https://i.ytimg.com/vi/1ZAPwfrtAFY/default.jpg</td>\n",
       "      <td>False</td>\n",
       "      <td>False</td>\n",
       "      <td>False</td>\n",
       "      <td>One year after the presidential election, John...</td>\n",
       "    </tr>\n",
       "  </tbody>\n",
       "</table>\n",
       "</div>"
      ],
      "text/plain": [
       "     id     video_id trending_date  \\\n",
       "0  None  2kyS6SvSYSE      17.14.11   \n",
       "1  None  1ZAPwfrtAFY      17.14.11   \n",
       "\n",
       "                                               title    channel_title  \\\n",
       "0                 WE WANT TO TALK ABOUT OUR MARRIAGE     CaseyNeistat   \n",
       "1  The Trump Presidency: Last Week Tonight with J...  LastWeekTonight   \n",
       "\n",
       "   category_id              publish_time  \\\n",
       "0           22  2017-11-13T17:13:01.000Z   \n",
       "1           24  2017-11-13T07:30:00.000Z   \n",
       "\n",
       "                                                tags    views  likes  \\\n",
       "0                                    SHANtell martin   748374  57527   \n",
       "1  last week tonight trump presidency|\"last week ...  2418783  97185   \n",
       "\n",
       "   dislikes  comment_count                                  thumbnail_link  \\\n",
       "0      2966          15954  https://i.ytimg.com/vi/2kyS6SvSYSE/default.jpg   \n",
       "1      6146          12703  https://i.ytimg.com/vi/1ZAPwfrtAFY/default.jpg   \n",
       "\n",
       "  comments_disabled ratings_disabled video_error_or_removed  \\\n",
       "0             False            False                  False   \n",
       "1             False            False                  False   \n",
       "\n",
       "                                         description  \n",
       "0  SHANTELL'S CHANNEL - https://www.youtube.com/s...  \n",
       "1  One year after the presidential election, John...  "
      ]
     },
     "execution_count": 8,
     "metadata": {},
     "output_type": "execute_result"
    }
   ],
   "source": [
    "run_sql_pd('SELECT * FROM masterData LIMIT 2;')\n"
   ]
  },
  {
   "cell_type": "markdown",
   "metadata": {},
   "source": [
    "#### After reviewing master data, create two tables based on function -- one static, one transactional"
   ]
  },
  {
   "cell_type": "code",
   "execution_count": 9,
   "metadata": {},
   "outputs": [],
   "source": [
    "create_statement_video = '''\n",
    "    CREATE TABLE videos (\n",
    "    video_id TEXT PRIMARY KEY NOT NULL,\n",
    "    title TEXT NOT NULL,\n",
    "    channel_title TEXT NOT NULL,\n",
    "    publish_time INTEGER NOT NULL,\n",
    "    tags TEXT NOT NULL,\n",
    "    thumbnail_link TEXT NOT NULL,\n",
    "    comments_disabled TEXT NOT NULL,\n",
    "    ratings_disabled TEXT NOT NULL,\n",
    "    video_error_or_removed TEXT NOT NULL,\n",
    "    description TEXT NOT NULL)\n",
    "    '''\n",
    "\n",
    "run_sql(create_statement_video)\n",
    "\n",
    "create_statement_time = '''\n",
    "    CREATE TABLE time (\n",
    "    id INTEGER PRIMARY KEY AUTOINCREMENT,\n",
    "    video_id TEXT NOT NULL,\n",
    "    trending_date TEXT NOT NULL,\n",
    "    views INTEGER NOT NULL,\n",
    "    likes INTEGER NOT NULL,\n",
    "    dislikes INTEGER NOT NULL,\n",
    "    comment_count INTEGER NOT NULL,\n",
    "        FOREIGN KEY(video_id) REFERENCES videos(video_id))\n",
    "    '''\n",
    "\n",
    "run_sql(create_statement_time)"
   ]
  },
  {
   "cell_type": "markdown",
   "metadata": {},
   "source": [
    "#### Date is stored in hard-to-read format. Transform date column."
   ]
  },
  {
   "cell_type": "code",
   "execution_count": 10,
   "metadata": {},
   "outputs": [],
   "source": [
    "for row in masterdata_csv:\n",
    "    date = row[headers_dict['trending_date']]\n",
    "    updated_date = \"20\" + date[:2]\n",
    "    updated_date += \"-\"\n",
    "    updated_date += date[6:]\n",
    "    updated_date += \"-\"\n",
    "    updated_date += date[3:5]\n",
    "    row[headers_dict['trending_date']] = updated_date"
   ]
  },
  {
   "cell_type": "markdown",
   "metadata": {},
   "source": [
    "#### Titles contain characters + and &. These will not be parseable. Replacing with 'and'."
   ]
  },
  {
   "cell_type": "code",
   "execution_count": 11,
   "metadata": {},
   "outputs": [],
   "source": [
    "for row in masterdata_csv:\n",
    "    title = row[headers_dict['title']]\n",
    "    updated_title = re.sub('&|\\+', 'and', title)\n",
    "    row[headers_dict['title']] = updated_title"
   ]
  },
  {
   "cell_type": "markdown",
   "metadata": {},
   "source": [
    "#### Separate CSV file into lists to be loaded to each table"
   ]
  },
  {
   "cell_type": "code",
   "execution_count": 12,
   "metadata": {},
   "outputs": [],
   "source": [
    "video_data = []\n",
    "time_data = []\n",
    "\n",
    "for row in masterdata_csv:\n",
    "    video_entry = [row[headers_dict['video_id']], \n",
    "                   row[headers_dict['title']], \n",
    "                   row[headers_dict['channel_title']], \n",
    "                   row[headers_dict['publish_time']],\n",
    "                   row[headers_dict['tags']],\n",
    "                   row[headers_dict['thumbnail_link']],\n",
    "                   row[headers_dict['comments_disabled']],\n",
    "                   row[headers_dict['ratings_disabled']],\n",
    "                   row[headers_dict['video_error_or_removed']],\n",
    "                   row[headers_dict['description']]\n",
    "                  ]\n",
    "    \n",
    "    video_data.append(video_entry)\n",
    "    \n",
    "    time_entry = [row[headers_dict['video_id']], \n",
    "                  row[headers_dict['trending_date']], \n",
    "                  row[headers_dict['views']], \n",
    "                  row[headers_dict['likes']],\n",
    "                  row[headers_dict['dislikes']],\n",
    "                  row[headers_dict['comment_count']]\n",
    "                 ]\n",
    "    \n",
    "    time_data.append(time_entry)"
   ]
  },
  {
   "cell_type": "markdown",
   "metadata": {},
   "source": [
    "#### Load data to tables"
   ]
  },
  {
   "cell_type": "code",
   "execution_count": 13,
   "metadata": {},
   "outputs": [],
   "source": [
    "load_statement_videos = '''\n",
    "    INSERT OR REPLACE INTO videos\n",
    "    (video_id,\n",
    "    title,\n",
    "    channel_title,\n",
    "    publish_time,\n",
    "    tags,\n",
    "    thumbnail_link,\n",
    "    comments_disabled,\n",
    "    ratings_disabled,\n",
    "    video_error_or_removed,\n",
    "    description)\n",
    "    VALUES (?,?,?,?,?,?,?,?,?,?)\n",
    "    '''\n",
    "\n",
    "run_sql_many(load_statement_videos, video_data)\n"
   ]
  },
  {
   "cell_type": "code",
   "execution_count": 14,
   "metadata": {},
   "outputs": [],
   "source": [
    "load_statement_time = '''\n",
    "    INSERT INTO time\n",
    "    (video_id,\n",
    "    trending_date,\n",
    "    views,\n",
    "    likes,\n",
    "    dislikes,\n",
    "    comment_count)\n",
    "    VALUES (?,?,?,?,?,?)\n",
    "    '''\n",
    "\n",
    "run_sql_many(load_statement_time, time_data)"
   ]
  },
  {
   "cell_type": "markdown",
   "metadata": {},
   "source": [
    "#### Test for foreign key failure"
   ]
  },
  {
   "cell_type": "code",
   "execution_count": 15,
   "metadata": {},
   "outputs": [
    {
     "name": "stdout",
     "output_type": "stream",
     "text": [
      "There was an error: FOREIGN KEY constraint failed\n"
     ]
    }
   ],
   "source": [
    "failure_statement = \"INSERT INTO time VALUES (?, ?, ?, ?, ?, ?, ?)\"\n",
    "failure_args = (None, \"testy\", \"18.11.11\", 1, 1, 1, 1)\n",
    "\n",
    "run_sql(failure_statement, failure_args)"
   ]
  },
  {
   "cell_type": "markdown",
   "metadata": {},
   "source": [
    "#### Sample of final Videos table"
   ]
  },
  {
   "cell_type": "code",
   "execution_count": 16,
   "metadata": {},
   "outputs": [
    {
     "data": {
      "text/html": [
       "<div>\n",
       "<style scoped>\n",
       "    .dataframe tbody tr th:only-of-type {\n",
       "        vertical-align: middle;\n",
       "    }\n",
       "\n",
       "    .dataframe tbody tr th {\n",
       "        vertical-align: top;\n",
       "    }\n",
       "\n",
       "    .dataframe thead th {\n",
       "        text-align: right;\n",
       "    }\n",
       "</style>\n",
       "<table border=\"1\" class=\"dataframe\">\n",
       "  <thead>\n",
       "    <tr style=\"text-align: right;\">\n",
       "      <th></th>\n",
       "      <th>video_id</th>\n",
       "      <th>title</th>\n",
       "      <th>channel_title</th>\n",
       "      <th>publish_time</th>\n",
       "      <th>tags</th>\n",
       "      <th>thumbnail_link</th>\n",
       "      <th>comments_disabled</th>\n",
       "      <th>ratings_disabled</th>\n",
       "      <th>video_error_or_removed</th>\n",
       "      <th>description</th>\n",
       "    </tr>\n",
       "  </thead>\n",
       "  <tbody>\n",
       "    <tr>\n",
       "      <th>0</th>\n",
       "      <td>9wRQljFNDW8</td>\n",
       "      <td>Dion Lewis' 103-Yd Kick Return TD vs. Denver! ...</td>\n",
       "      <td>NFL</td>\n",
       "      <td>2017-11-13T02:05:26.000Z</td>\n",
       "      <td>NFL|\"Football\"|\"offense\"|\"defense\"|\"afc\"|\"nfc\"...</td>\n",
       "      <td>https://i.ytimg.com/vi/9wRQljFNDW8/default.jpg</td>\n",
       "      <td>False</td>\n",
       "      <td>False</td>\n",
       "      <td>False</td>\n",
       "      <td>New England Patriots returner Dion Lewis blast...</td>\n",
       "    </tr>\n",
       "    <tr>\n",
       "      <th>1</th>\n",
       "      <td>Om_zGhJLZ5U</td>\n",
       "      <td>TL;DW - Every DCEU Movie Before Justice League</td>\n",
       "      <td>Screen Junkies</td>\n",
       "      <td>2017-11-12T18:00:03.000Z</td>\n",
       "      <td>screenjunkies|\"screen junkies\"|\"sj news\"|\"hone...</td>\n",
       "      <td>https://i.ytimg.com/vi/Om_zGhJLZ5U/default.jpg</td>\n",
       "      <td>False</td>\n",
       "      <td>False</td>\n",
       "      <td>False</td>\n",
       "      <td>With Justice League approaching fast we rewatc...</td>\n",
       "    </tr>\n",
       "  </tbody>\n",
       "</table>\n",
       "</div>"
      ],
      "text/plain": [
       "      video_id                                              title  \\\n",
       "0  9wRQljFNDW8  Dion Lewis' 103-Yd Kick Return TD vs. Denver! ...   \n",
       "1  Om_zGhJLZ5U     TL;DW - Every DCEU Movie Before Justice League   \n",
       "\n",
       "    channel_title              publish_time  \\\n",
       "0             NFL  2017-11-13T02:05:26.000Z   \n",
       "1  Screen Junkies  2017-11-12T18:00:03.000Z   \n",
       "\n",
       "                                                tags  \\\n",
       "0  NFL|\"Football\"|\"offense\"|\"defense\"|\"afc\"|\"nfc\"...   \n",
       "1  screenjunkies|\"screen junkies\"|\"sj news\"|\"hone...   \n",
       "\n",
       "                                   thumbnail_link comments_disabled  \\\n",
       "0  https://i.ytimg.com/vi/9wRQljFNDW8/default.jpg             False   \n",
       "1  https://i.ytimg.com/vi/Om_zGhJLZ5U/default.jpg             False   \n",
       "\n",
       "  ratings_disabled video_error_or_removed  \\\n",
       "0            False                  False   \n",
       "1            False                  False   \n",
       "\n",
       "                                         description  \n",
       "0  New England Patriots returner Dion Lewis blast...  \n",
       "1  With Justice League approaching fast we rewatc...  "
      ]
     },
     "execution_count": 16,
     "metadata": {},
     "output_type": "execute_result"
    }
   ],
   "source": [
    "run_sql_pd('SELECT * FROM videos LIMIT 2;')"
   ]
  },
  {
   "cell_type": "markdown",
   "metadata": {},
   "source": [
    "#### Sample of final Times table"
   ]
  },
  {
   "cell_type": "code",
   "execution_count": 17,
   "metadata": {},
   "outputs": [
    {
     "data": {
      "text/html": [
       "<div>\n",
       "<style scoped>\n",
       "    .dataframe tbody tr th:only-of-type {\n",
       "        vertical-align: middle;\n",
       "    }\n",
       "\n",
       "    .dataframe tbody tr th {\n",
       "        vertical-align: top;\n",
       "    }\n",
       "\n",
       "    .dataframe thead th {\n",
       "        text-align: right;\n",
       "    }\n",
       "</style>\n",
       "<table border=\"1\" class=\"dataframe\">\n",
       "  <thead>\n",
       "    <tr style=\"text-align: right;\">\n",
       "      <th></th>\n",
       "      <th>id</th>\n",
       "      <th>video_id</th>\n",
       "      <th>trending_date</th>\n",
       "      <th>views</th>\n",
       "      <th>likes</th>\n",
       "      <th>dislikes</th>\n",
       "      <th>comment_count</th>\n",
       "    </tr>\n",
       "  </thead>\n",
       "  <tbody>\n",
       "    <tr>\n",
       "      <th>0</th>\n",
       "      <td>1</td>\n",
       "      <td>2kyS6SvSYSE</td>\n",
       "      <td>2017-11-14</td>\n",
       "      <td>748374</td>\n",
       "      <td>57527</td>\n",
       "      <td>2966</td>\n",
       "      <td>15954</td>\n",
       "    </tr>\n",
       "    <tr>\n",
       "      <th>1</th>\n",
       "      <td>2</td>\n",
       "      <td>1ZAPwfrtAFY</td>\n",
       "      <td>2017-11-14</td>\n",
       "      <td>2418783</td>\n",
       "      <td>97185</td>\n",
       "      <td>6146</td>\n",
       "      <td>12703</td>\n",
       "    </tr>\n",
       "  </tbody>\n",
       "</table>\n",
       "</div>"
      ],
      "text/plain": [
       "   id     video_id trending_date    views  likes  dislikes  comment_count\n",
       "0   1  2kyS6SvSYSE    2017-11-14   748374  57527      2966          15954\n",
       "1   2  1ZAPwfrtAFY    2017-11-14  2418783  97185      6146          12703"
      ]
     },
     "execution_count": 17,
     "metadata": {},
     "output_type": "execute_result"
    }
   ],
   "source": [
    "run_sql_pd('SELECT * FROM time LIMIT 2;')"
   ]
  },
  {
   "cell_type": "markdown",
   "metadata": {},
   "source": [
    "### Segments\n",
    "In looking at the titles (see random sample below), each title is not necessarily a full sentence. The titles are, instead, composed of sequences of title segments. The title segments are also often not complete sentences. At this point, an analysis of the sentence structure doesn't make sense for the data. Fresh tactics!"
   ]
  },
  {
   "cell_type": "code",
   "execution_count": 18,
   "metadata": {},
   "outputs": [
    {
     "data": {
      "text/html": [
       "<div>\n",
       "<style scoped>\n",
       "    .dataframe tbody tr th:only-of-type {\n",
       "        vertical-align: middle;\n",
       "    }\n",
       "\n",
       "    .dataframe tbody tr th {\n",
       "        vertical-align: top;\n",
       "    }\n",
       "\n",
       "    .dataframe thead th {\n",
       "        text-align: right;\n",
       "    }\n",
       "</style>\n",
       "<table border=\"1\" class=\"dataframe\">\n",
       "  <thead>\n",
       "    <tr style=\"text-align: right;\">\n",
       "      <th></th>\n",
       "      <th>title</th>\n",
       "    </tr>\n",
       "  </thead>\n",
       "  <tbody>\n",
       "    <tr>\n",
       "      <th>0</th>\n",
       "      <td>#184 Making a PCB using EasyEDA. // Review</td>\n",
       "    </tr>\n",
       "    <tr>\n",
       "      <th>1</th>\n",
       "      <td>#23 Feed The Homeless | One List, One Life</td>\n",
       "    </tr>\n",
       "    <tr>\n",
       "      <th>2</th>\n",
       "      <td>#57: AM and SSB explained</td>\n",
       "    </tr>\n",
       "    <tr>\n",
       "      <th>3</th>\n",
       "      <td>#AboveTheNoise feat. Serena Williams, Neymar Jr., Cara Delevingne, Michael K. Williams, and Kris Wu</td>\n",
       "    </tr>\n",
       "    <tr>\n",
       "      <th>4</th>\n",
       "      <td>#DisneyParksLIVE: Fantasy In The Sky New Years Eve Fireworks | Disney World</td>\n",
       "    </tr>\n",
       "    <tr>\n",
       "      <th>5</th>\n",
       "      <td>#DisneyParksLIVE: Super Bowl Celebration | Walt Disney World</td>\n",
       "    </tr>\n",
       "    <tr>\n",
       "      <th>6</th>\n",
       "      <td>#EDGYTOKEI</td>\n",
       "    </tr>\n",
       "    <tr>\n",
       "      <th>7</th>\n",
       "      <td>#GuacWorld :60 | 2018 Big Game Commercial | Avocados From Mexico</td>\n",
       "    </tr>\n",
       "    <tr>\n",
       "      <th>8</th>\n",
       "      <td>#HurtBae 2: One Year Later - Kourtney and Leonard Meet Again | Iris</td>\n",
       "    </tr>\n",
       "    <tr>\n",
       "      <th>9</th>\n",
       "      <td>#LightTheWorld Christmas Concert with The Piano Guys and Friends</td>\n",
       "    </tr>\n",
       "  </tbody>\n",
       "</table>\n",
       "</div>"
      ],
      "text/plain": [
       "                                                                                                 title\n",
       "0  #184 Making a PCB using EasyEDA. // Review                                                         \n",
       "1  #23 Feed The Homeless | One List, One Life                                                         \n",
       "2  #57: AM and SSB explained                                                                          \n",
       "3  #AboveTheNoise feat. Serena Williams, Neymar Jr., Cara Delevingne, Michael K. Williams, and Kris Wu\n",
       "4  #DisneyParksLIVE: Fantasy In The Sky New Years Eve Fireworks | Disney World                        \n",
       "5  #DisneyParksLIVE: Super Bowl Celebration | Walt Disney World                                       \n",
       "6  #EDGYTOKEI                                                                                         \n",
       "7  #GuacWorld :60 | 2018 Big Game Commercial | Avocados From Mexico                                   \n",
       "8  #HurtBae 2: One Year Later - Kourtney and Leonard Meet Again | Iris                                \n",
       "9  #LightTheWorld Christmas Concert with The Piano Guys and Friends                                   "
      ]
     },
     "execution_count": 18,
     "metadata": {},
     "output_type": "execute_result"
    }
   ],
   "source": [
    "pd.set_option('display.max_colwidth', -1)\n",
    "run_sql_pd('SELECT title FROM videos ORDER BY title ASC LIMIT 10;')"
   ]
  },
  {
   "cell_type": "markdown",
   "metadata": {},
   "source": [
    "####  Create Segments table to store segments of each title for analysis. "
   ]
  },
  {
   "cell_type": "code",
   "execution_count": 19,
   "metadata": {},
   "outputs": [],
   "source": [
    "create_statement_segments = '''\n",
    "    CREATE TABLE segments (\n",
    "    segment_id INTEGER PRIMARY KEY AUTOINCREMENT,\n",
    "    video_id TEXT NOT NULL,\n",
    "    segment_text TEXT NOT NULL,\n",
    "    segment_structure TEXT,\n",
    "        FOREIGN KEY(video_id) REFERENCES videos(video_id))\n",
    "    '''\n",
    "\n",
    "run_sql(create_statement_segments)"
   ]
  },
  {
   "cell_type": "markdown",
   "metadata": {},
   "source": [
    "#### Select data from Videos table to parse into segments, generate parts of speech for each, and commit to Segments table"
   ]
  },
  {
   "cell_type": "markdown",
   "metadata": {},
   "source": [
    "- Segments are split on special characters: \"|\", \"-\", \":\", \";\", \"/\", \"\\\", \")\", \"(\", \"[\", \"]\", \"{\", \"}\"\n",
    "- Segments are not split when a hyphen forms an adjective (e.g. well-groomed cat) by checking for spaces on either side of the hyphen.\n",
    "- Parts of speech are generated by using the pos_tag function in the NLTK.\n",
    "- Both process are methods of the Segment class."
   ]
  },
  {
   "cell_type": "code",
   "execution_count": 20,
   "metadata": {},
   "outputs": [],
   "source": [
    "titles_list = run_sql_fetchall(\"SELECT video_id, title FROM videos;\")"
   ]
  },
  {
   "cell_type": "code",
   "execution_count": 21,
   "metadata": {},
   "outputs": [],
   "source": [
    "segment_entries=[]\n",
    "\n",
    "for row in titles_list:\n",
    "    video = Video(row[0], row[1])\n",
    "    segments = video.title_segments()\n",
    "    for segment in segments:\n",
    "        segment_entry = []\n",
    "        segment_entry.append(segment.video_id)\n",
    "        segment_entry.append(segment.text())\n",
    "        segment_entry.append(\", \".join(segment.parts_of_speech()))\n",
    "        segment_entries.append(segment_entry)"
   ]
  },
  {
   "cell_type": "code",
   "execution_count": 22,
   "metadata": {},
   "outputs": [],
   "source": [
    "insert_statement_segments = '''\n",
    "        INSERT INTO segments\n",
    "        (video_id,\n",
    "        segment_text,\n",
    "        segment_structure)\n",
    "        VALUES (?,?, ?)\n",
    "        '''\n",
    "source = segment_entries\n",
    "\n",
    "run_sql_many(insert_statement_segments, source)\n"
   ]
  },
  {
   "cell_type": "code",
   "execution_count": 23,
   "metadata": {},
   "outputs": [
    {
     "data": {
      "text/html": [
       "<div>\n",
       "<style scoped>\n",
       "    .dataframe tbody tr th:only-of-type {\n",
       "        vertical-align: middle;\n",
       "    }\n",
       "\n",
       "    .dataframe tbody tr th {\n",
       "        vertical-align: top;\n",
       "    }\n",
       "\n",
       "    .dataframe thead th {\n",
       "        text-align: right;\n",
       "    }\n",
       "</style>\n",
       "<table border=\"1\" class=\"dataframe\">\n",
       "  <thead>\n",
       "    <tr style=\"text-align: right;\">\n",
       "      <th></th>\n",
       "      <th>segment_id</th>\n",
       "      <th>video_id</th>\n",
       "      <th>segment_text</th>\n",
       "      <th>segment_structure</th>\n",
       "    </tr>\n",
       "  </thead>\n",
       "  <tbody>\n",
       "    <tr>\n",
       "      <th>0</th>\n",
       "      <td>8933</td>\n",
       "      <td>KyQyz2upSgY</td>\n",
       "      <td>casually explained</td>\n",
       "      <td>RB, VBD</td>\n",
       "    </tr>\n",
       "    <tr>\n",
       "      <th>1</th>\n",
       "      <td>8934</td>\n",
       "      <td>KyQyz2upSgY</td>\n",
       "      <td>men's fashion</td>\n",
       "      <td>NNS, POS, NN</td>\n",
       "    </tr>\n",
       "    <tr>\n",
       "      <th>2</th>\n",
       "      <td>8935</td>\n",
       "      <td>wAQ7autd61g</td>\n",
       "      <td>the final countdown</td>\n",
       "      <td>DT, JJ, NN</td>\n",
       "    </tr>\n",
       "    <tr>\n",
       "      <th>3</th>\n",
       "      <td>8936</td>\n",
       "      <td>wAQ7autd61g</td>\n",
       "      <td>europe</td>\n",
       "      <td>NN</td>\n",
       "    </tr>\n",
       "    <tr>\n",
       "      <th>4</th>\n",
       "      <td>8937</td>\n",
       "      <td>wAQ7autd61g</td>\n",
       "      <td>vintage cabaret cover</td>\n",
       "      <td>NN, NN, NN</td>\n",
       "    </tr>\n",
       "  </tbody>\n",
       "</table>\n",
       "</div>"
      ],
      "text/plain": [
       "   segment_id     video_id           segment_text segment_structure\n",
       "0  8933        KyQyz2upSgY  casually explained     RB, VBD         \n",
       "1  8934        KyQyz2upSgY  men's fashion          NNS, POS, NN    \n",
       "2  8935        wAQ7autd61g  the final countdown    DT, JJ, NN      \n",
       "3  8936        wAQ7autd61g  europe                 NN              \n",
       "4  8937        wAQ7autd61g  vintage cabaret cover  NN, NN, NN      "
      ]
     },
     "execution_count": 23,
     "metadata": {},
     "output_type": "execute_result"
    }
   ],
   "source": [
    "run_sql_pd('SELECT * FROM segments WHERE segment_id>=(abs(random()) % (SELECT max(segment_id)FROM segments)) LIMIT 5')"
   ]
  },
  {
   "cell_type": "code",
   "execution_count": 24,
   "metadata": {},
   "outputs": [],
   "source": [
    "segments_list = run_sql_fetchall(\"SELECT video_id, segment_text, segment_id FROM segments;\")"
   ]
  },
  {
   "cell_type": "markdown",
   "metadata": {},
   "source": [
    "#### Concatenate all segments for analysis as a whole using the Title_glob class"
   ]
  },
  {
   "cell_type": "code",
   "execution_count": 25,
   "metadata": {},
   "outputs": [],
   "source": [
    "def lower_case(list):\n",
    "    return [w.lower() for w in list]\n",
    "\n",
    "all_segment_words = []\n",
    "\n",
    "for item in segments_list:\n",
    "    segment = Segment(item[0], item[1])\n",
    "    segment_words = segment.words()\n",
    "    for word in segment_words: \n",
    "        all_segment_words.append(word)\n",
    "\n",
    "all_segment_words = lower_case(all_segment_words)\n",
    "\n",
    "all_words = Title_glob(sorted(all_segment_words))\n",
    "# print(all_words.word_list())\n",
    "\n",
    "all_tokens = Title_glob(sorted(set(all_segment_words)))\n",
    "# print(all_tokens.word_list())"
   ]
  },
  {
   "cell_type": "markdown",
   "metadata": {},
   "source": [
    "#### The X most common words - unfiltered. \n",
    "Update number_most_common below if you'd like to see other lists"
   ]
  },
  {
   "cell_type": "code",
   "execution_count": 26,
   "metadata": {},
   "outputs": [
    {
     "data": {
      "text/html": [
       "<div>\n",
       "<style scoped>\n",
       "    .dataframe tbody tr th:only-of-type {\n",
       "        vertical-align: middle;\n",
       "    }\n",
       "\n",
       "    .dataframe tbody tr th {\n",
       "        vertical-align: top;\n",
       "    }\n",
       "\n",
       "    .dataframe thead th {\n",
       "        text-align: right;\n",
       "    }\n",
       "</style>\n",
       "<table border=\"1\" class=\"dataframe\">\n",
       "  <thead>\n",
       "    <tr style=\"text-align: right;\">\n",
       "      <th></th>\n",
       "      <th>frequency</th>\n",
       "      <th>word</th>\n",
       "    </tr>\n",
       "  </thead>\n",
       "  <tbody>\n",
       "    <tr>\n",
       "      <th>0</th>\n",
       "      <td>1627</td>\n",
       "      <td>the</td>\n",
       "    </tr>\n",
       "    <tr>\n",
       "      <th>1</th>\n",
       "      <td>753</td>\n",
       "      <td>and</td>\n",
       "    </tr>\n",
       "    <tr>\n",
       "      <th>2</th>\n",
       "      <td>748</td>\n",
       "      <td>a</td>\n",
       "    </tr>\n",
       "    <tr>\n",
       "      <th>3</th>\n",
       "      <td>685</td>\n",
       "      <td>to</td>\n",
       "    </tr>\n",
       "    <tr>\n",
       "      <th>4</th>\n",
       "      <td>538</td>\n",
       "      <td>in</td>\n",
       "    </tr>\n",
       "    <tr>\n",
       "      <th>5</th>\n",
       "      <td>531</td>\n",
       "      <td>of</td>\n",
       "    </tr>\n",
       "    <tr>\n",
       "      <th>6</th>\n",
       "      <td>486</td>\n",
       "      <td>official</td>\n",
       "    </tr>\n",
       "    <tr>\n",
       "      <th>7</th>\n",
       "      <td>470</td>\n",
       "      <td>with</td>\n",
       "    </tr>\n",
       "    <tr>\n",
       "      <th>8</th>\n",
       "      <td>405</td>\n",
       "      <td>on</td>\n",
       "    </tr>\n",
       "    <tr>\n",
       "      <th>9</th>\n",
       "      <td>361</td>\n",
       "      <td>2018</td>\n",
       "    </tr>\n",
       "  </tbody>\n",
       "</table>\n",
       "</div>"
      ],
      "text/plain": [
       "   frequency      word\n",
       "0  1627       the     \n",
       "1  753        and     \n",
       "2  748        a       \n",
       "3  685        to      \n",
       "4  538        in      \n",
       "5  531        of      \n",
       "6  486        official\n",
       "7  470        with    \n",
       "8  405        on      \n",
       "9  361        2018    "
      ]
     },
     "execution_count": 26,
     "metadata": {},
     "output_type": "execute_result"
    }
   ],
   "source": [
    "number_most_common = 10\n",
    "\n",
    "def transform_for_pandas_freq(list):\n",
    "    final_list = []\n",
    "    for item in list:\n",
    "        entry = {}\n",
    "        entry['word'] = item[0]\n",
    "        entry['frequency'] = item[1]\n",
    "        final_list.append(entry)\n",
    "    return final_list\n",
    "\n",
    "freq_dist = all_words.frequency_distribution()\n",
    "\n",
    "most_common_list_all = freq_dist.most_common(number_most_common)\n",
    "\n",
    "most_common_all = transform_for_pandas_freq(most_common_list_all)\n",
    "\n",
    "pd.DataFrame(most_common_all)\n"
   ]
  },
  {
   "cell_type": "markdown",
   "metadata": {},
   "source": [
    "#### The X most common words - filtered to exclude stop words:\n",
    "A stop word is a commonly used word (such as “the”, “a”, “an”, “in”) that a search engine has been programmed to ignore, both when indexing entries for searching and when retrieving them as the result of a search query. "
   ]
  },
  {
   "cell_type": "code",
   "execution_count": 27,
   "metadata": {},
   "outputs": [
    {
     "data": {
      "text/html": [
       "<div>\n",
       "<style scoped>\n",
       "    .dataframe tbody tr th:only-of-type {\n",
       "        vertical-align: middle;\n",
       "    }\n",
       "\n",
       "    .dataframe tbody tr th {\n",
       "        vertical-align: top;\n",
       "    }\n",
       "\n",
       "    .dataframe thead th {\n",
       "        text-align: right;\n",
       "    }\n",
       "</style>\n",
       "<table border=\"1\" class=\"dataframe\">\n",
       "  <thead>\n",
       "    <tr style=\"text-align: right;\">\n",
       "      <th></th>\n",
       "      <th>frequency</th>\n",
       "      <th>word</th>\n",
       "    </tr>\n",
       "  </thead>\n",
       "  <tbody>\n",
       "    <tr>\n",
       "      <th>0</th>\n",
       "      <td>486</td>\n",
       "      <td>official</td>\n",
       "    </tr>\n",
       "    <tr>\n",
       "      <th>1</th>\n",
       "      <td>361</td>\n",
       "      <td>2018</td>\n",
       "    </tr>\n",
       "    <tr>\n",
       "      <th>2</th>\n",
       "      <td>317</td>\n",
       "      <td>video</td>\n",
       "    </tr>\n",
       "    <tr>\n",
       "      <th>3</th>\n",
       "      <td>276</td>\n",
       "      <td>trailer</td>\n",
       "    </tr>\n",
       "    <tr>\n",
       "      <th>4</th>\n",
       "      <td>178</td>\n",
       "      <td>vs</td>\n",
       "    </tr>\n",
       "    <tr>\n",
       "      <th>5</th>\n",
       "      <td>175</td>\n",
       "      <td>2017</td>\n",
       "    </tr>\n",
       "    <tr>\n",
       "      <th>6</th>\n",
       "      <td>170</td>\n",
       "      <td>new</td>\n",
       "    </tr>\n",
       "    <tr>\n",
       "      <th>7</th>\n",
       "      <td>155</td>\n",
       "      <td>ft</td>\n",
       "    </tr>\n",
       "    <tr>\n",
       "      <th>8</th>\n",
       "      <td>144</td>\n",
       "      <td>live</td>\n",
       "    </tr>\n",
       "    <tr>\n",
       "      <th>9</th>\n",
       "      <td>141</td>\n",
       "      <td>first</td>\n",
       "    </tr>\n",
       "  </tbody>\n",
       "</table>\n",
       "</div>"
      ],
      "text/plain": [
       "   frequency      word\n",
       "0  486        official\n",
       "1  361        2018    \n",
       "2  317        video   \n",
       "3  276        trailer \n",
       "4  178        vs      \n",
       "5  175        2017    \n",
       "6  170        new     \n",
       "7  155        ft      \n",
       "8  144        live    \n",
       "9  141        first   "
      ]
     },
     "execution_count": 27,
     "metadata": {},
     "output_type": "execute_result"
    }
   ],
   "source": [
    "no_stops = all_words.no_stop_words()\n",
    "\n",
    "no_stop_words = Title_glob(no_stops)\n",
    "\n",
    "freq_dist = no_stop_words.frequency_distribution()\n",
    "\n",
    "most_common_list_no_stop = freq_dist.most_common(number_most_common)\n",
    "\n",
    "most_common_no_stop = transform_for_pandas_freq(most_common_list_no_stop)\n",
    "\n",
    "df_no_stop = pd.DataFrame(most_common_no_stop)\n",
    "df_no_stop"
   ]
  },
  {
   "cell_type": "code",
   "execution_count": 28,
   "metadata": {},
   "outputs": [],
   "source": [
    "labels_list_words = []\n",
    "\n",
    "for item in most_common_list_no_stop:\n",
    "    labels_list_words.append(item[0])"
   ]
  },
  {
   "cell_type": "code",
   "execution_count": 29,
   "metadata": {},
   "outputs": [
    {
     "data": {
      "image/png": "[encoded data removed]",
      "text/plain": [
       "<Figure size 432x288 with 1 Axes>"
      ]
     },
     "metadata": {},
     "output_type": "display_data"
    }
   ],
   "source": [
    "data = df_no_stop\n",
    "fig, ax = plt.subplots()\n",
    "plt.title('Most Frequently Occuring Words, Excluding Stop Words')\n",
    "plt.ylabel('Frequency')\n",
    "plt.xlabel('Word')\n",
    "data.plot(ax=ax, kind='bar')\n",
    "ax.set_xticklabels(labels_list_words)\n",
    "plt.show()"
   ]
  },
  {
   "cell_type": "markdown",
   "metadata": {},
   "source": [
    "#### The X most common words - filtered - by total views:\n",
    "Each video may  be logged several times (no more than once per day) if the video continues to trend. This function selects the number of views on the max trending date to get the final total of views on record. \n",
    "\n",
    "Views for each video with a title containing one of the top ten content words are aggregated."
   ]
  },
  {
   "cell_type": "code",
   "execution_count": 30,
   "metadata": {},
   "outputs": [],
   "source": [
    "def get_hits(word):\n",
    "    fetch_statement_video = \"SELECT video_id FROM videos WHERE title LIKE '%{}%'\".format(word)\n",
    "    videos = run_sql_fetchall(fetch_statement_video)\n",
    "    \n",
    "    video_id_list = []\n",
    "    \n",
    "    for item in videos:\n",
    "        video_id_list.append(item[0])\n",
    "        \n",
    "    total_views = 0\n",
    "    \n",
    "    for id in video_id_list:\n",
    "        fetch_statement_max_date = \"\"\"\n",
    "            SELECT video_id, max(trending_date)\n",
    "            FROM time\n",
    "            GROUP BY video_id\n",
    "            HAVING video_id = '{}'\"\"\".format(id)\n",
    "        date = run_sql_fetchall(fetch_statement_max_date)\n",
    "        \n",
    "        video_id = date[0][0]\n",
    "        max_date = date[0][1]\n",
    "\n",
    "        fetch_statement_views = \"SELECT views FROM time WHERE video_id = '{}' AND trending_date = '{}'\".format(video_id, max_date)\n",
    "        views = run_sql_fetchall(fetch_statement_views)\n",
    "        total_views += views[0][0]\n",
    "\n",
    "    return total_views"
   ]
  },
  {
   "cell_type": "code",
   "execution_count": 31,
   "metadata": {},
   "outputs": [
    {
     "data": {
      "text/html": [
       "<div>\n",
       "<style scoped>\n",
       "    .dataframe tbody tr th:only-of-type {\n",
       "        vertical-align: middle;\n",
       "    }\n",
       "\n",
       "    .dataframe tbody tr th {\n",
       "        vertical-align: top;\n",
       "    }\n",
       "\n",
       "    .dataframe thead th {\n",
       "        text-align: right;\n",
       "    }\n",
       "</style>\n",
       "<table border=\"1\" class=\"dataframe\">\n",
       "  <thead>\n",
       "    <tr style=\"text-align: right;\">\n",
       "      <th></th>\n",
       "      <th>views</th>\n",
       "      <th>word</th>\n",
       "    </tr>\n",
       "  </thead>\n",
       "  <tbody>\n",
       "    <tr>\n",
       "      <th>0</th>\n",
       "      <td>3689644625</td>\n",
       "      <td>official</td>\n",
       "    </tr>\n",
       "    <tr>\n",
       "      <th>2</th>\n",
       "      <td>2483253180</td>\n",
       "      <td>video</td>\n",
       "    </tr>\n",
       "    <tr>\n",
       "      <th>3</th>\n",
       "      <td>1265342216</td>\n",
       "      <td>trailer</td>\n",
       "    </tr>\n",
       "    <tr>\n",
       "      <th>7</th>\n",
       "      <td>1225476113</td>\n",
       "      <td>ft</td>\n",
       "    </tr>\n",
       "    <tr>\n",
       "      <th>1</th>\n",
       "      <td>691212494</td>\n",
       "      <td>2018</td>\n",
       "    </tr>\n",
       "    <tr>\n",
       "      <th>5</th>\n",
       "      <td>318554491</td>\n",
       "      <td>2017</td>\n",
       "    </tr>\n",
       "    <tr>\n",
       "      <th>4</th>\n",
       "      <td>316564504</td>\n",
       "      <td>vs</td>\n",
       "    </tr>\n",
       "    <tr>\n",
       "      <th>8</th>\n",
       "      <td>235075468</td>\n",
       "      <td>live</td>\n",
       "    </tr>\n",
       "    <tr>\n",
       "      <th>6</th>\n",
       "      <td>191770814</td>\n",
       "      <td>new</td>\n",
       "    </tr>\n",
       "    <tr>\n",
       "      <th>9</th>\n",
       "      <td>131103622</td>\n",
       "      <td>first</td>\n",
       "    </tr>\n",
       "  </tbody>\n",
       "</table>\n",
       "</div>"
      ],
      "text/plain": [
       "        views      word\n",
       "0  3689644625  official\n",
       "2  2483253180  video   \n",
       "3  1265342216  trailer \n",
       "7  1225476113  ft      \n",
       "1  691212494   2018    \n",
       "5  318554491   2017    \n",
       "4  316564504   vs      \n",
       "8  235075468   live    \n",
       "6  191770814   new     \n",
       "9  131103622   first   "
      ]
     },
     "execution_count": 31,
     "metadata": {},
     "output_type": "execute_result"
    }
   ],
   "source": [
    "hits_dict_list = []\n",
    "\n",
    "for word in labels_list_words:\n",
    "    hits_dict_entry = {}\n",
    "    hits_dict_entry['word'] = word\n",
    "    hits_dict_entry['views'] = get_hits(word)\n",
    "    hits_dict_list.append(hits_dict_entry)\n",
    "\n",
    "df_top_10_views = pd.DataFrame(hits_dict_list)\n",
    "\n",
    "df_top_10_sorted = df_top_10_views.sort_values('views', 0, False)\n",
    "\n",
    "df_top_10_sorted"
   ]
  },
  {
   "cell_type": "code",
   "execution_count": 32,
   "metadata": {},
   "outputs": [
    {
     "data": {
      "image/png": "[encoded data removed]",
      "text/plain": [
       "<Figure size 432x288 with 1 Axes>"
      ]
     },
     "metadata": {},
     "output_type": "display_data"
    }
   ],
   "source": [
    "data = df_top_10_sorted\n",
    "fig, ax = plt.subplots()\n",
    "plt.title('Total Views for Most Frequently Occuring Words')\n",
    "plt.ylabel('Views')\n",
    "plt.xlabel('Word')\n",
    "data.plot(ax=ax, kind='bar')\n",
    "ax.set_xticklabels(labels_list_words)\n",
    "plt.show()"
   ]
  },
  {
   "cell_type": "markdown",
   "metadata": {},
   "source": [
    "#### Views by frequency for top 10 most commonly occurring words"
   ]
  },
  {
   "cell_type": "code",
   "execution_count": 33,
   "metadata": {},
   "outputs": [
    {
     "data": {
      "text/html": [
       "<div>\n",
       "<style scoped>\n",
       "    .dataframe tbody tr th:only-of-type {\n",
       "        vertical-align: middle;\n",
       "    }\n",
       "\n",
       "    .dataframe tbody tr th {\n",
       "        vertical-align: top;\n",
       "    }\n",
       "\n",
       "    .dataframe thead th {\n",
       "        text-align: right;\n",
       "    }\n",
       "</style>\n",
       "<table border=\"1\" class=\"dataframe\">\n",
       "  <thead>\n",
       "    <tr style=\"text-align: right;\">\n",
       "      <th></th>\n",
       "      <th>average_views_by_video</th>\n",
       "      <th>frequency</th>\n",
       "      <th>views</th>\n",
       "      <th>word</th>\n",
       "    </tr>\n",
       "  </thead>\n",
       "  <tbody>\n",
       "    <tr>\n",
       "      <th>7</th>\n",
       "      <td>7906298.0</td>\n",
       "      <td>155</td>\n",
       "      <td>1225476113</td>\n",
       "      <td>ft</td>\n",
       "    </tr>\n",
       "    <tr>\n",
       "      <th>2</th>\n",
       "      <td>7833606.0</td>\n",
       "      <td>317</td>\n",
       "      <td>2483253180</td>\n",
       "      <td>video</td>\n",
       "    </tr>\n",
       "    <tr>\n",
       "      <th>0</th>\n",
       "      <td>7591861.0</td>\n",
       "      <td>486</td>\n",
       "      <td>3689644625</td>\n",
       "      <td>official</td>\n",
       "    </tr>\n",
       "    <tr>\n",
       "      <th>3</th>\n",
       "      <td>4584573.0</td>\n",
       "      <td>276</td>\n",
       "      <td>1265342216</td>\n",
       "      <td>trailer</td>\n",
       "    </tr>\n",
       "    <tr>\n",
       "      <th>1</th>\n",
       "      <td>1914716.0</td>\n",
       "      <td>361</td>\n",
       "      <td>691212494</td>\n",
       "      <td>2018</td>\n",
       "    </tr>\n",
       "    <tr>\n",
       "      <th>5</th>\n",
       "      <td>1820311.0</td>\n",
       "      <td>175</td>\n",
       "      <td>318554491</td>\n",
       "      <td>2017</td>\n",
       "    </tr>\n",
       "    <tr>\n",
       "      <th>4</th>\n",
       "      <td>1778452.0</td>\n",
       "      <td>178</td>\n",
       "      <td>316564504</td>\n",
       "      <td>vs</td>\n",
       "    </tr>\n",
       "    <tr>\n",
       "      <th>8</th>\n",
       "      <td>1632469.0</td>\n",
       "      <td>144</td>\n",
       "      <td>235075468</td>\n",
       "      <td>live</td>\n",
       "    </tr>\n",
       "    <tr>\n",
       "      <th>6</th>\n",
       "      <td>1128064.0</td>\n",
       "      <td>170</td>\n",
       "      <td>191770814</td>\n",
       "      <td>new</td>\n",
       "    </tr>\n",
       "    <tr>\n",
       "      <th>9</th>\n",
       "      <td>929813.0</td>\n",
       "      <td>141</td>\n",
       "      <td>131103622</td>\n",
       "      <td>first</td>\n",
       "    </tr>\n",
       "  </tbody>\n",
       "</table>\n",
       "</div>"
      ],
      "text/plain": [
       "   average_views_by_video  frequency       views      word\n",
       "7  7906298.0               155        1225476113  ft      \n",
       "2  7833606.0               317        2483253180  video   \n",
       "0  7591861.0               486        3689644625  official\n",
       "3  4584573.0               276        1265342216  trailer \n",
       "1  1914716.0               361        691212494   2018    \n",
       "5  1820311.0               175        318554491   2017    \n",
       "4  1778452.0               178        316564504   vs      \n",
       "8  1632469.0               144        235075468   live    \n",
       "6  1128064.0               170        191770814   new     \n",
       "9  929813.0                141        131103622   first   "
      ]
     },
     "execution_count": 33,
     "metadata": {},
     "output_type": "execute_result"
    }
   ],
   "source": [
    "top_10_summary = []\n",
    "for item in most_common_no_stop:\n",
    "    entry = {}\n",
    "    word = item['word']\n",
    "    entry['word'] = word\n",
    "    entry['frequency'] = item['frequency']\n",
    "    for item in hits_dict_list:\n",
    "        if item['word'] == word:\n",
    "            views = item['views']\n",
    "    entry['views'] = views\n",
    "    entry['average_views_by_video'] = round(entry['views']/entry['frequency'], 0)\n",
    "    \n",
    "    top_10_summary.append(entry)\n",
    "\n",
    "df_top_10_summary = pd.DataFrame(top_10_summary).sort_values('average_views_by_video', 0, False)\n",
    "\n",
    "df_top_10_summary"
   ]
  },
  {
   "cell_type": "markdown",
   "metadata": {},
   "source": [
    "#### Lexical diversity\n",
    "This is generated by dividing the length of the set of unique words over the length of  the set of all words."
   ]
  },
  {
   "cell_type": "code",
   "execution_count": 34,
   "metadata": {},
   "outputs": [
    {
     "name": "stdout",
     "output_type": "stream",
     "text": [
      "The lexical diversity of the corpus is 0.21445316284025961.\n",
      "There are 51615 words in the corpus.\n",
      "There are 11069 unique words.\n"
     ]
    }
   ],
   "source": [
    "print(\"The lexical diversity of the corpus is {}.\".format(all_words.lexical_diversity()))\n",
    "print(\"There are {} words in the corpus.\".format(len(all_words.word_list())))\n",
    "print(\"There are {} unique words.\".format(len(all_tokens.word_list())))\n"
   ]
  },
  {
   "cell_type": "markdown",
   "metadata": {},
   "source": [
    "#### [For context](https://pudding.cool/2017/02/vocabulary/index.html)\n",
    "- Wu Tang Clan uses 5,895 unique words in a set of their first 35,000 lyric tokens for a lexical diversity of 0.1684\n",
    "- Shakespeare uses 5,170 unique words in a set of 35,000 word tokens (the first 5,000 from 7 different works) for a lexical diversity of 0.1477"
   ]
  },
  {
   "cell_type": "markdown",
   "metadata": {},
   "source": [
    "#### Longest word"
   ]
  },
  {
   "cell_type": "code",
   "execution_count": 35,
   "metadata": {},
   "outputs": [
    {
     "name": "stdout",
     "output_type": "stream",
     "text": [
      "The longest word in the corpus is brfxxccxxmnpcccclllmmnprxvclmnckssqlbb11116 with a length of 43 characters\n"
     ]
    }
   ],
   "source": [
    "longest_word = ''\n",
    "longest_length = 0\n",
    "\n",
    "for word in all_tokens.word_list():\n",
    "    if len(word) > longest_length:\n",
    "        longest_word = word\n",
    "        longest_length = len(word)\n",
    "\n",
    "print(\"The longest word in the corpus is {} with a length of {} characters\".format(longest_word, longest_length))"
   ]
  },
  {
   "cell_type": "markdown",
   "metadata": {},
   "source": [
    "You should totally check this word out on Youtube. NOT what I was expecting."
   ]
  },
  {
   "cell_type": "markdown",
   "metadata": {},
   "source": [
    "#### Greatest number of segments per title"
   ]
  },
  {
   "cell_type": "code",
   "execution_count": 36,
   "metadata": {},
   "outputs": [
    {
     "data": {
      "text/html": [
       "<div>\n",
       "<style scoped>\n",
       "    .dataframe tbody tr th:only-of-type {\n",
       "        vertical-align: middle;\n",
       "    }\n",
       "\n",
       "    .dataframe tbody tr th {\n",
       "        vertical-align: top;\n",
       "    }\n",
       "\n",
       "    .dataframe thead th {\n",
       "        text-align: right;\n",
       "    }\n",
       "</style>\n",
       "<table border=\"1\" class=\"dataframe\">\n",
       "  <thead>\n",
       "    <tr style=\"text-align: right;\">\n",
       "      <th></th>\n",
       "      <th>number_of_segments</th>\n",
       "      <th>video_id</th>\n",
       "    </tr>\n",
       "  </thead>\n",
       "  <tbody>\n",
       "    <tr>\n",
       "      <th>0</th>\n",
       "      <td>6</td>\n",
       "      <td>07JQ4WZJIbg</td>\n",
       "    </tr>\n",
       "    <tr>\n",
       "      <th>1</th>\n",
       "      <td>6</td>\n",
       "      <td>IxF3mxWbdjw</td>\n",
       "    </tr>\n",
       "    <tr>\n",
       "      <th>2</th>\n",
       "      <td>6</td>\n",
       "      <td>JWH5KE1atAg</td>\n",
       "    </tr>\n",
       "    <tr>\n",
       "      <th>3</th>\n",
       "      <td>6</td>\n",
       "      <td>XiHiW4N7-bo</td>\n",
       "    </tr>\n",
       "    <tr>\n",
       "      <th>4</th>\n",
       "      <td>6</td>\n",
       "      <td>Yq4_YocuVeg</td>\n",
       "    </tr>\n",
       "    <tr>\n",
       "      <th>5</th>\n",
       "      <td>6</td>\n",
       "      <td>Zjp0mdMeIPU</td>\n",
       "    </tr>\n",
       "  </tbody>\n",
       "</table>\n",
       "</div>"
      ],
      "text/plain": [
       "   number_of_segments     video_id\n",
       "0  6                   07JQ4WZJIbg\n",
       "1  6                   IxF3mxWbdjw\n",
       "2  6                   JWH5KE1atAg\n",
       "3  6                   XiHiW4N7-bo\n",
       "4  6                   Yq4_YocuVeg\n",
       "5  6                   Zjp0mdMeIPU"
      ]
     },
     "execution_count": 36,
     "metadata": {},
     "output_type": "execute_result"
    }
   ],
   "source": [
    "segments_statement = \"\"\"\n",
    "            SELECT count(segment_id) as number_of_segments, video_id \n",
    "            FROM segments \n",
    "            GROUP BY video_id \n",
    "            ORDER BY number_of_segments desc\n",
    "            LIMIT 6;\n",
    "            \"\"\"\n",
    "\n",
    "segments_count = run_sql_pd(segments_statement)\n",
    "\n",
    "segments_count"
   ]
  },
  {
   "cell_type": "markdown",
   "metadata": {},
   "source": [
    "The most segments contained in any given title is 6."
   ]
  },
  {
   "cell_type": "code",
   "execution_count": 37,
   "metadata": {},
   "outputs": [
    {
     "data": {
      "text/html": [
       "<div>\n",
       "<style scoped>\n",
       "    .dataframe tbody tr th:only-of-type {\n",
       "        vertical-align: middle;\n",
       "    }\n",
       "\n",
       "    .dataframe tbody tr th {\n",
       "        vertical-align: top;\n",
       "    }\n",
       "\n",
       "    .dataframe thead th {\n",
       "        text-align: right;\n",
       "    }\n",
       "</style>\n",
       "<table border=\"1\" class=\"dataframe\">\n",
       "  <thead>\n",
       "    <tr style=\"text-align: right;\">\n",
       "      <th></th>\n",
       "      <th>title</th>\n",
       "    </tr>\n",
       "  </thead>\n",
       "  <tbody>\n",
       "    <tr>\n",
       "      <th>0</th>\n",
       "      <td>Marvel's VENOM (2018) - Full Trailer | Tom Hardy Movie (HD) Concept</td>\n",
       "    </tr>\n",
       "  </tbody>\n",
       "</table>\n",
       "</div>"
      ],
      "text/plain": [
       "                                                                 title\n",
       "0  Marvel's VENOM (2018) - Full Trailer | Tom Hardy Movie (HD) Concept"
      ]
     },
     "execution_count": 37,
     "metadata": {},
     "output_type": "execute_result"
    }
   ],
   "source": [
    "sample_6_statement = 'SELECT * from segments WHERE video_id = \"07JQ4WZJIbg\"'\n",
    "sample_6 = run_sql_pd(sample_6_statement)\n",
    "\n",
    "full_title_6_statement = 'SELECT title from videos WHERE video_id = \"07JQ4WZJIbg\"'\n",
    "pd.set_option('display.max_colwidth', -1)\n",
    "run_sql_pd(full_title_6_statement)"
   ]
  },
  {
   "cell_type": "code",
   "execution_count": 38,
   "metadata": {},
   "outputs": [
    {
     "data": {
      "text/html": [
       "<div>\n",
       "<style scoped>\n",
       "    .dataframe tbody tr th:only-of-type {\n",
       "        vertical-align: middle;\n",
       "    }\n",
       "\n",
       "    .dataframe tbody tr th {\n",
       "        vertical-align: top;\n",
       "    }\n",
       "\n",
       "    .dataframe thead th {\n",
       "        text-align: right;\n",
       "    }\n",
       "</style>\n",
       "<table border=\"1\" class=\"dataframe\">\n",
       "  <thead>\n",
       "    <tr style=\"text-align: right;\">\n",
       "      <th></th>\n",
       "      <th>segment_id</th>\n",
       "      <th>video_id</th>\n",
       "      <th>segment_text</th>\n",
       "      <th>segment_structure</th>\n",
       "    </tr>\n",
       "  </thead>\n",
       "  <tbody>\n",
       "    <tr>\n",
       "      <th>0</th>\n",
       "      <td>7660</td>\n",
       "      <td>07JQ4WZJIbg</td>\n",
       "      <td>marvel's venom</td>\n",
       "      <td>NN, POS, NN</td>\n",
       "    </tr>\n",
       "    <tr>\n",
       "      <th>1</th>\n",
       "      <td>7661</td>\n",
       "      <td>07JQ4WZJIbg</td>\n",
       "      <td>2018</td>\n",
       "      <td>CD</td>\n",
       "    </tr>\n",
       "    <tr>\n",
       "      <th>2</th>\n",
       "      <td>7662</td>\n",
       "      <td>07JQ4WZJIbg</td>\n",
       "      <td>full trailer</td>\n",
       "      <td>JJ, NN</td>\n",
       "    </tr>\n",
       "    <tr>\n",
       "      <th>3</th>\n",
       "      <td>7663</td>\n",
       "      <td>07JQ4WZJIbg</td>\n",
       "      <td>tom hardy movie</td>\n",
       "      <td>NN, JJ, NN</td>\n",
       "    </tr>\n",
       "    <tr>\n",
       "      <th>4</th>\n",
       "      <td>7664</td>\n",
       "      <td>07JQ4WZJIbg</td>\n",
       "      <td>hd</td>\n",
       "      <td>NN</td>\n",
       "    </tr>\n",
       "    <tr>\n",
       "      <th>5</th>\n",
       "      <td>7665</td>\n",
       "      <td>07JQ4WZJIbg</td>\n",
       "      <td>concept</td>\n",
       "      <td>NN</td>\n",
       "    </tr>\n",
       "  </tbody>\n",
       "</table>\n",
       "</div>"
      ],
      "text/plain": [
       "   segment_id     video_id     segment_text segment_structure\n",
       "0  7660        07JQ4WZJIbg  marvel's venom   NN, POS, NN     \n",
       "1  7661        07JQ4WZJIbg  2018             CD              \n",
       "2  7662        07JQ4WZJIbg  full trailer     JJ, NN          \n",
       "3  7663        07JQ4WZJIbg  tom hardy movie  NN, JJ, NN      \n",
       "4  7664        07JQ4WZJIbg  hd               NN              \n",
       "5  7665        07JQ4WZJIbg  concept          NN              "
      ]
     },
     "execution_count": 38,
     "metadata": {},
     "output_type": "execute_result"
    }
   ],
   "source": [
    "pd.set_option('display.max_colwidth', 0)\n",
    "sample_6"
   ]
  },
  {
   "cell_type": "markdown",
   "metadata": {},
   "source": [
    "...It thinks 'hardy' of Tom Hardy is an adjective. What can ya do?"
   ]
  },
  {
   "cell_type": "markdown",
   "metadata": {},
   "source": [
    "#### Average number of segments per title"
   ]
  },
  {
   "cell_type": "code",
   "execution_count": 39,
   "metadata": {},
   "outputs": [
    {
     "data": {
      "text/plain": [
       "number_of_segments    1.855141\n",
       "dtype: float64"
      ]
     },
     "execution_count": 39,
     "metadata": {},
     "output_type": "execute_result"
    }
   ],
   "source": [
    "count_segments_statement = \"\"\"\n",
    "            SELECT count(segment_id) as number_of_segments, video_id \n",
    "            FROM segments \n",
    "            GROUP BY video_id;\n",
    "            \"\"\"\n",
    "df = run_sql_pd(count_segments_statement)\n",
    "df.mean()"
   ]
  },
  {
   "cell_type": "markdown",
   "metadata": {},
   "source": [
    "The mean number of segments per title is 1.855141"
   ]
  },
  {
   "cell_type": "markdown",
   "metadata": {},
   "source": [
    "#### Diversity of part-of-speech sequences in title segments"
   ]
  },
  {
   "cell_type": "code",
   "execution_count": 40,
   "metadata": {},
   "outputs": [
    {
     "name": "stdout",
     "output_type": "stream",
     "text": [
      "\n",
      "        The number of repeated grammatical patterns is 654.\n",
      "        There are a total of 5173 unique grammatical patterns found in title segments.\n"
     ]
    }
   ],
   "source": [
    "repeated = \"\"\"\n",
    "        SELECT count(video_id) as number_of_pattern_occurances\n",
    "        FROM segments \n",
    "        GROUP BY segment_structure\n",
    "        HAVING number_of_pattern_occurances > 1\n",
    "        ORDER BY number_of_pattern_occurances DESC;\n",
    "        \"\"\"\n",
    "\n",
    "every = \"\"\"\n",
    "    SELECT count(video_id) as number_of_pattern_occurances\n",
    "    FROM segments \n",
    "    GROUP BY segment_structure\n",
    "    ORDER BY number_of_pattern_occurances DESC;\n",
    "    \"\"\"\n",
    "\n",
    "df_repeated = run_sql_pd(repeated)\n",
    "df_all = run_sql_pd(every)\n",
    "\n",
    "print( \"\"\"\n",
    "        The number of repeated grammatical patterns is {}.\n",
    "        There are a total of {} unique grammatical patterns found in title segments.\"\"\"\n",
    "        .format(len(df_repeated.index), len(df_all.index)))\n"
   ]
  },
  {
   "cell_type": "markdown",
   "metadata": {},
   "source": [
    "#### The top 10 part-of-speech sequences"
   ]
  },
  {
   "cell_type": "code",
   "execution_count": 41,
   "metadata": {},
   "outputs": [],
   "source": [
    "select_statement_top_10 = '''\n",
    "    SELECT count(video_id) as number_of_pattern_occurances, segment_structure\n",
    "    FROM segments\n",
    "    GROUP BY segment_structure\n",
    "    ORDER BY number_of_pattern_occurances DESC\n",
    "    LIMIT 10;'''\n",
    "\n",
    "top_10 = run_sql_fetchall(select_statement_top_10)"
   ]
  },
  {
   "cell_type": "code",
   "execution_count": 42,
   "metadata": {},
   "outputs": [
    {
     "data": {
      "text/html": [
       "<div>\n",
       "<style scoped>\n",
       "    .dataframe tbody tr th:only-of-type {\n",
       "        vertical-align: middle;\n",
       "    }\n",
       "\n",
       "    .dataframe tbody tr th {\n",
       "        vertical-align: top;\n",
       "    }\n",
       "\n",
       "    .dataframe thead th {\n",
       "        text-align: right;\n",
       "    }\n",
       "</style>\n",
       "<table border=\"1\" class=\"dataframe\">\n",
       "  <thead>\n",
       "    <tr style=\"text-align: right;\">\n",
       "      <th></th>\n",
       "      <th>frequency</th>\n",
       "      <th>segment_structure</th>\n",
       "      <th>structure_explanation</th>\n",
       "    </tr>\n",
       "  </thead>\n",
       "  <tbody>\n",
       "    <tr>\n",
       "      <th>0</th>\n",
       "      <td>1349</td>\n",
       "      <td>NN</td>\n",
       "      <td>[noun, singular: 'desk']</td>\n",
       "    </tr>\n",
       "    <tr>\n",
       "      <th>1</th>\n",
       "      <td>817</td>\n",
       "      <td>NN, NN</td>\n",
       "      <td>[noun, singular: 'desk', noun, singular: 'desk']</td>\n",
       "    </tr>\n",
       "    <tr>\n",
       "      <th>2</th>\n",
       "      <td>608</td>\n",
       "      <td>JJ, NN</td>\n",
       "      <td>[adjective, base:  'big', noun, singular: 'desk']</td>\n",
       "    </tr>\n",
       "    <tr>\n",
       "      <th>3</th>\n",
       "      <td>216</td>\n",
       "      <td>NN, NNS</td>\n",
       "      <td>[noun, singular: 'desk', noun plural:'desks']</td>\n",
       "    </tr>\n",
       "    <tr>\n",
       "      <th>4</th>\n",
       "      <td>197</td>\n",
       "      <td>JJ, NN, NN</td>\n",
       "      <td>[adjective, base:  'big', noun, singular: 'desk', noun, singular: 'desk']</td>\n",
       "    </tr>\n",
       "    <tr>\n",
       "      <th>5</th>\n",
       "      <td>182</td>\n",
       "      <td>NN, NN, NN</td>\n",
       "      <td>[noun, singular: 'desk', noun, singular: 'desk', noun, singular: 'desk']</td>\n",
       "    </tr>\n",
       "    <tr>\n",
       "      <th>6</th>\n",
       "      <td>133</td>\n",
       "      <td>NN, CD</td>\n",
       "      <td>[noun, singular: 'desk', cardinal digit]</td>\n",
       "    </tr>\n",
       "    <tr>\n",
       "      <th>7</th>\n",
       "      <td>116</td>\n",
       "      <td>DT, NN</td>\n",
       "      <td>[determiner, noun, singular: 'desk']</td>\n",
       "    </tr>\n",
       "    <tr>\n",
       "      <th>8</th>\n",
       "      <td>114</td>\n",
       "      <td>NNS</td>\n",
       "      <td>[noun plural:'desks']</td>\n",
       "    </tr>\n",
       "    <tr>\n",
       "      <th>9</th>\n",
       "      <td>104</td>\n",
       "      <td>CD</td>\n",
       "      <td>[cardinal digit]</td>\n",
       "    </tr>\n",
       "  </tbody>\n",
       "</table>\n",
       "</div>"
      ],
      "text/plain": [
       "   frequency segment_structure  \\\n",
       "0  1349       NN                 \n",
       "1  817        NN, NN             \n",
       "2  608        JJ, NN             \n",
       "3  216        NN, NNS            \n",
       "4  197        JJ, NN, NN         \n",
       "5  182        NN, NN, NN         \n",
       "6  133        NN, CD             \n",
       "7  116        DT, NN             \n",
       "8  114        NNS                \n",
       "9  104        CD                 \n",
       "\n",
       "                                                       structure_explanation  \n",
       "0  [noun, singular: 'desk']                                                   \n",
       "1  [noun, singular: 'desk', noun, singular: 'desk']                           \n",
       "2  [adjective, base:  'big', noun, singular: 'desk']                          \n",
       "3  [noun, singular: 'desk', noun plural:'desks']                              \n",
       "4  [adjective, base:  'big', noun, singular: 'desk', noun, singular: 'desk']  \n",
       "5  [noun, singular: 'desk', noun, singular: 'desk', noun, singular: 'desk']   \n",
       "6  [noun, singular: 'desk', cardinal digit]                                   \n",
       "7  [determiner, noun, singular: 'desk']                                       \n",
       "8  [noun plural:'desks']                                                      \n",
       "9  [cardinal digit]                                                           "
      ]
     },
     "execution_count": 42,
     "metadata": {},
     "output_type": "execute_result"
    }
   ],
   "source": [
    "def translate_structure(item):\n",
    "    item_list = item[1].split(\", \")\n",
    "    expanded_structure = []\n",
    "    for pos in item_list:\n",
    "        expanded_structure.append(pos_dict[pos])\n",
    "    return expanded_structure\n",
    "\n",
    "def build_list(my_list):\n",
    "    new_list = []\n",
    "    for item in my_list:\n",
    "        entry = {}\n",
    "        entry['frequency'] = item[0]\n",
    "        entry['segment_structure'] = item[1]\n",
    "        entry['structure_explanation'] = translate_structure(item)\n",
    "        new_list.append(entry)\n",
    "    return new_list\n",
    "\n",
    "df_top_10 = pd.DataFrame(build_list(top_10))\n",
    "\n",
    "df_top_10"
   ]
  },
  {
   "cell_type": "code",
   "execution_count": 43,
   "metadata": {},
   "outputs": [],
   "source": [
    "labels_list = []\n",
    "\n",
    "for item in top_10:\n",
    "    labels_list.append(item[1])"
   ]
  },
  {
   "cell_type": "code",
   "execution_count": 44,
   "metadata": {},
   "outputs": [
    {
     "data": {
      "image/png": "[encoded data removed]",
      "text/plain": [
       "<Figure size 432x288 with 1 Axes>"
      ]
     },
     "metadata": {},
     "output_type": "display_data"
    }
   ],
   "source": [
    "data = df_top_10\n",
    "fig, ax = plt.subplots()\n",
    "plt.title('Frequency of Part of Speech Sequences ')\n",
    "plt.ylabel('Frequency')\n",
    "plt.xlabel('POS Sequence')\n",
    "data.plot(ax=ax, kind='bar')\n",
    "ax.set_xticklabels(labels_list)\n",
    "plt.show()"
   ]
  },
  {
   "cell_type": "markdown",
   "metadata": {},
   "source": [
    "### Conclusion"
   ]
  },
  {
   "cell_type": "markdown",
   "metadata": {},
   "source": [
    "Though I did not find what I had come to find, several interesting features of the data set are apparent. The main finding is that Youtube video titles do not come in complete sentences, but rather small units of meaning. While the average number of segments per title in this data set is just under two, some titles had as many as six segments.\n",
    "\n",
    "Among segments, the single noun is king! This is followed by two consecutive nouns and an adjective/noun combination. All other part-of-speech sequences are much less represented with only 654 of the total 5173 sequences repeated at least once.\n",
    "\n",
    "The lexical content of the titles is incredibly varied (More than Wu Tang! More than Shakespeare!). Of the most common words that are not stop words, 'official' is by far the most highly represented, followed by '2018', 'video', and 'trailer'. The word 'official' is the most frequently occurring in individual titles. Videos with the word 'official' in their titles also have the most views. However, videos with the word 'ft' in their titles receive more view per occurrence than videos with any other of the 10 most common words. I would guess that this is related to 'ft' being used in music video titles which would be must more frequently watched than other video types."
   ]
  }
 ],
 "metadata": {
  "kernelspec": {
   "display_name": "Python 3",
   "language": "python",
   "name": "python3"
  },
  "language_info": {
   "codemirror_mode": {
    "name": "ipython",
    "version": 3
   },
   "file_extension": ".py",
   "mimetype": "text/x-python",
   "name": "python",
   "nbconvert_exporter": "python",
   "pygments_lexer": "ipython3",
   "version": "3.6.5"
  }
 },
 "nbformat": 4,
 "nbformat_minor": 2
}
